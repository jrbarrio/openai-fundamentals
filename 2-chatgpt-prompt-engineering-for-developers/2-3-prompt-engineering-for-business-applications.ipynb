{
 "cells": [
  {
   "cell_type": "code",
   "execution_count": 2,
   "metadata": {},
   "outputs": [],
   "source": [
    "from openai import OpenAI\n",
    "import os\n",
    "\n",
    "from dotenv import load_dotenv, find_dotenv\n",
    "_ = load_dotenv(find_dotenv())\n",
    "\n",
    "client = OpenAI(api_key=os.getenv('OPENAI_API_KEY'))"
   ]
  },
  {
   "cell_type": "code",
   "execution_count": 3,
   "metadata": {},
   "outputs": [],
   "source": [
    "def get_response(prompt):\n",
    "  response = client.chat.completions.create(\n",
    "    model=\"gpt-3.5-turbo\",\n",
    "    messages=[{\"role\": \"user\", \"content\": prompt}], \n",
    "    temperature = 0)\n",
    "  return response.choices[0].message.content"
   ]
  },
  {
   "cell_type": "markdown",
   "metadata": {},
   "source": [
    "# Text summarization and expansion"
   ]
  },
  {
   "cell_type": "markdown",
   "metadata": {},
   "source": [
    "## Market research report summarization"
   ]
  },
  {
   "cell_type": "code",
   "execution_count": 4,
   "metadata": {},
   "outputs": [
    {
     "name": "stdout",
     "output_type": "stream",
     "text": [
      "Summarized report: \n",
      " The text discusses the importance of understanding customer behavior in today's market and highlights key trends and shifts in customer behavior. It specifically focuses on aspects related to AI and data privacy. The use of AI, such as chatbots and predictive analytics, is transforming customer service and engagement. However, data privacy concerns, driven by regulations like GDPR and CCPA, are impacting how companies handle customer data, emphasizing the need for strengthened cybersecurity measures. The text also mentions the growth of e-commerce, the demand for personalized experiences, the influence of sustainability and ethical consumption, and the significance of a mobile-first approach. The conclusion emphasizes the importance of adaptation, innovation, and a customer-centric approach, while the recommendations include investing in data analytics and AI, embracing sustainable practices, prioritizing mobile experiences, and ensuring compliance with data privacy regulations.\n"
     ]
    }
   ],
   "source": [
    "report = \"\"\"\n",
    "Title: Market Trends and Customer Behavior Analysis\n",
    "\n",
    "Understanding customer behavior is vital for businesses to remain competitive and relevant in today's dynamic market. This report explores recent trends and shifts in customer behavior, focusing on key drivers of change. The insights aim to assist businesses in making informed decisions and adapting strategies to meet evolving customer demands.\n",
    "\n",
    "1. Introduction:\n",
    "\n",
    "1.1 Background:\n",
    "The analysis of customer behavior has evolved significantly due to technological advancements, data analytics, and changing consumer preferences. To stay competitive, businesses must continuously monitor and adapt to these shifting trends.\n",
    "\n",
    "1.2 Objective:\n",
    "This report provides a comprehensive overview of research trends and changes in customer behavior, with a particular focus on the following key areas:\n",
    "\n",
    "2. AI and Data Privacy:\n",
    "\n",
    "Artificial Intelligence (AI) is transforming customer service and engagement. Companies are increasingly implementing chatbots and virtual assistants to automate customer support. Predictive analytics, powered by AI, allows businesses to forecast customer behavior, making informed decisions. However, the growing concern for data privacy, spurred by regulations like GDPR and CCPA, is impacting how companies handle customer data. Strengthening cybersecurity measures is crucial to protect customer data from cyber threats and breaches.\n",
    "\n",
    "3. E-commerce and Digital Transformation:\n",
    "\n",
    "E-commerce has experienced significant growth, accelerated by the COVID-19 pandemic. Key trends include a shift towards mobile online shopping, the integration of shopping features into social media platforms (social commerce), and the use of augmented reality (AR) and virtual reality (VR) for immersive shopping experiences.\n",
    "\n",
    "4. Personalization and Customer Experience:\n",
    "\n",
    "Customers now expect highly personalized experiences, driving the emergence of AI-driven personalization. Omni-channel experiences that seamlessly connect online and offline interactions are increasingly important. Voice commerce, facilitated by voice-activated devices like smart speakers, is also on the rise.\n",
    "\n",
    "5. Sustainability and Ethical Consumption:\n",
    "\n",
    "Consumer awareness of environmental and ethical issues is influencing buying habits. This trend is reflected in the growing demand for eco-friendly products that are sustainable, recyclable, and biodegradable. Consumers are also favoring brands that demonstrate responsible sourcing and ethical production practices.\n",
    "\n",
    "6. Mobile-First Approach:\n",
    "\n",
    "The widespread use of smartphones has transformed customer-business interactions. As a result, companies are heavily investing in mobile apps to provide convenience and enhance engagement. Mobile payments, including contactless methods and digital wallets, are gaining popularity.\n",
    "\n",
    "7. Conclusion:\n",
    "\n",
    "To remain competitive in today's business landscape, organizations must closely monitor research trends and changes in customer behavior. Adaptation, innovation, and a customer-centric approach are key to success. Businesses should prioritize personalized experiences, sustainable practices, mobile accessibility, and data security to meet evolving customer demands.\n",
    "\n",
    "8. Recommendations:\n",
    "\n",
    "Invest in data analytics and AI to drive personalization and gain deeper customer insights.\n",
    "Embrace sustainable and ethical practices to align with consumer values and preferences.\n",
    "Prioritize the development of mobile experiences and seamless omni-channel engagement.\n",
    "Ensure strict compliance with data privacy regulations and continuously enhance cybersecurity measures to safeguard customer data.\n",
    "\"\"\"\n",
    "\n",
    "prompt = f\"\"\"Summarize the text delimited by triple backticks, n maximum five sentences, while focusing on aspects related to AI and data privacy.\n",
    "```{report}```\"\"\"\n",
    "\n",
    "response = get_response(prompt)\n",
    "\n",
    "print(\"Summarized report: \\n\", response)"
   ]
  },
  {
   "cell_type": "markdown",
   "metadata": {},
   "source": [
    "## Product features summarization"
   ]
  },
  {
   "cell_type": "code",
   "execution_count": 5,
   "metadata": {},
   "outputs": [
    {
     "name": "stdout",
     "output_type": "stream",
     "text": [
      "Original description: \n",
      " \n",
      "The Smartphone XYZ-5000 is a device packed with innovative features to enhance the user experience. Its sleek design and vibrant display make it visually appealing, while the powerful octa-core processor ensures smooth performance and multitasking capabilities.\n",
      "The XYZ-5000 boasts a high-resolution triple-camera system, combining a 48MP primary lens, a 12MP ultra-wide lens, and a 5MP depth sensor, enabling users to capture stunning photos and videos in various shooting scenarios. The device also supports 4K video recording and comes with advanced image stabilization features.\n",
      "With a generous 128GB of internal storage, expandable up to 512GB via microSD, users can store a vast collection of media files and apps without worrying about running out of space. The smartphone runs on the latest Android OS and offers seamless integration with various Google services.\n",
      "In terms of security, the XYZ-5000 features a reliable fingerprint sensor and facial recognition technology for quick and secure unlocking. Additionally, it supports NFC for contactless payments and has a dedicated AI-powered virtual assistant to simplify daily tasks.\n",
      "The device's long-lasting 4000mAh battery ensures all-day usage, and it supports fast charging, providing hours of power with just a few minutes of charging. The XYZ-5000 is also water and dust resistant, giving users peace of mind in various environments.\n",
      "Overall, the Smartphone XYZ-5000 offers a fantastic combination of style, performance, and advanced features, making it an excellent choice for tech enthusiasts and everyday users alike.\n",
      "\n",
      "Summarized description: \n",
      " - The Smartphone XYZ-5000 has a sleek design and vibrant display.\n",
      "- It has a powerful octa-core processor for smooth performance and multitasking.\n",
      "- The XYZ-5000 has a high-resolution triple-camera system for stunning photos and videos.\n",
      "- It has a generous 128GB internal storage, expandable up to 512GB.\n",
      "- The XYZ-5000 features a reliable fingerprint sensor, facial recognition technology, NFC for contactless payments, and a dedicated AI-powered virtual assistant.\n"
     ]
    }
   ],
   "source": [
    "product_description = \"\"\"\n",
    "The Smartphone XYZ-5000 is a device packed with innovative features to enhance the user experience. Its sleek design and vibrant display make it visually appealing, while the powerful octa-core processor ensures smooth performance and multitasking capabilities.\n",
    "The XYZ-5000 boasts a high-resolution triple-camera system, combining a 48MP primary lens, a 12MP ultra-wide lens, and a 5MP depth sensor, enabling users to capture stunning photos and videos in various shooting scenarios. The device also supports 4K video recording and comes with advanced image stabilization features.\n",
    "With a generous 128GB of internal storage, expandable up to 512GB via microSD, users can store a vast collection of media files and apps without worrying about running out of space. The smartphone runs on the latest Android OS and offers seamless integration with various Google services.\n",
    "In terms of security, the XYZ-5000 features a reliable fingerprint sensor and facial recognition technology for quick and secure unlocking. Additionally, it supports NFC for contactless payments and has a dedicated AI-powered virtual assistant to simplify daily tasks.\n",
    "The device's long-lasting 4000mAh battery ensures all-day usage, and it supports fast charging, providing hours of power with just a few minutes of charging. The XYZ-5000 is also water and dust resistant, giving users peace of mind in various environments.\n",
    "Overall, the Smartphone XYZ-5000 offers a fantastic combination of style, performance, and advanced features, making it an excellent choice for tech enthusiasts and everyday users alike.\n",
    "\"\"\"\n",
    "\n",
    "prompt = f\"\"\"Summarize the text delimited in triple backticks in no more than five bullet points while focusing on the product features and specifications: ```{product_description}```\n",
    "\"\"\"\n",
    "\n",
    "response = get_response(prompt)\n",
    "\n",
    "print(\"Original description: \\n\", product_description)\n",
    "print(\"Summarized description: \\n\", response)"
   ]
  },
  {
   "cell_type": "markdown",
   "metadata": {},
   "source": [
    "## Product description expanding"
   ]
  },
  {
   "cell_type": "code",
   "execution_count": 6,
   "metadata": {},
   "outputs": [
    {
     "name": "stdout",
     "output_type": "stream",
     "text": [
      "Original description: \n",
      " \n",
      "Product: \"Smart Home Security Camera\"\n",
      "- High-tech security camera with night vision and motion detection.\n",
      "- Easy setup and remote monitoring.\n",
      "- Two-way audio communication for real-time interaction.\n",
      "- Mobile app integration for convenient control and alerts.\n",
      "- Weather-resistant design for both indoor and outdoor use.\n",
      "- Smart AI algorithms for advanced person and object detection.\n",
      "- Cloud storage and local backup options for recorded footage.\n",
      "- Infrared LEDs for clear imaging even in complete darkness.\n",
      "- Customizable motion zones to focus on specific areas.\n",
      "- Compatibility with voice assistants for hands-free control.\n",
      "\n",
      "Expanded description: \n",
      " The Smart Home Security Camera is a cutting-edge surveillance device that offers a wide range of features and benefits. With its high-tech capabilities, including night vision and motion detection, it ensures optimal security for both indoor and outdoor spaces. The camera is incredibly easy to set up and allows for remote monitoring through a mobile app, providing convenience and peace of mind. The two-way audio communication feature enables real-time interaction, allowing users to communicate with visitors or potential intruders. The camera's smart AI algorithms enable advanced person and object detection, enhancing its effectiveness in identifying potential threats. Additionally, the camera offers customizable motion zones, allowing users to focus on specific areas of interest. With cloud storage and local backup options, recorded footage is always accessible and secure. The infrared LEDs ensure clear imaging even in complete darkness, further enhancing its surveillance capabilities. The camera is also compatible with voice assistants, enabling hands-free control and integration with other smart home devices. Overall, the Smart Home Security Camera is a versatile and reliable solution for ensuring the safety and security of any home or property.\n"
     ]
    }
   ],
   "source": [
    "product_description = \"\"\"\n",
    "Product: \"Smart Home Security Camera\"\n",
    "- High-tech security camera with night vision and motion detection.\n",
    "- Easy setup and remote monitoring.\n",
    "- Two-way audio communication for real-time interaction.\n",
    "- Mobile app integration for convenient control and alerts.\n",
    "- Weather-resistant design for both indoor and outdoor use.\n",
    "- Smart AI algorithms for advanced person and object detection.\n",
    "- Cloud storage and local backup options for recorded footage.\n",
    "- Infrared LEDs for clear imaging even in complete darkness.\n",
    "- Customizable motion zones to focus on specific areas.\n",
    "- Compatibility with voice assistants for hands-free control.\n",
    "\"\"\"\n",
    "\n",
    "prompt = f\"\"\"Expand the product description delimited by triple backticks and write a one paragraph comprehensive overview capturing features, benefits, and potential applications: ```{product_description}```\n",
    "\"\"\"\n",
    "\n",
    "response = get_response(prompt)\n",
    "\n",
    "print(\"Original description: \\n\", product_description)\n",
    "print(\"Expanded description: \\n\", response)"
   ]
  },
  {
   "cell_type": "markdown",
   "metadata": {},
   "source": [
    "# Text transformation"
   ]
  },
  {
   "cell_type": "markdown",
   "metadata": {},
   "source": [
    "## Translation for multilingual communication"
   ]
  },
  {
   "cell_type": "code",
   "execution_count": 7,
   "metadata": {},
   "outputs": [
    {
     "name": "stdout",
     "output_type": "stream",
     "text": [
      "English: Introducing our latest collection of premium leather handbags. Each bag is meticulously crafted using the finest leather, ensuring durability and elegance. With a variety of designs and colors, our handbags are perfect for any occasion. Shop now and experience the epitome of style and quality.\n",
      "French:\n",
      "```Présentation de notre dernière collection de sacs à main en cuir de qualité supérieure. Chaque sac est méticuleusement conçu en utilisant le meilleur cuir, garantissant durabilité et élégance. Avec une variété de designs et de couleurs, nos sacs à main sont parfaits pour toutes les occasions. Faites vos achats dès maintenant et découvrez l'apogée du style et de la qualité.```\n",
      "\n",
      "Spanish:\n",
      "```Presentamos nuestra última colección de bolsos de cuero premium. Cada bolso está meticulosamente elaborado utilizando el mejor cuero, asegurando durabilidad y elegancia. Con una variedad de diseños y colores, nuestros bolsos son perfectos para cualquier ocasión. Compra ahora y experimenta el epítome de estilo y calidad.```\n",
      "\n",
      "Japanese:\n",
      "```最新のプレミアムレザーハンドバッグコレクションをご紹介します。各バッグは最高品質の革を使用し、耐久性とエレガンスを保証して丹念に作られています。デザインとカラーのバラエティ豊かなハンドバッグは、どんな場面にもぴったりです。今すぐショッピングして、スタイルと品質の絶頂を体験してください。```\n"
     ]
    }
   ],
   "source": [
    "marketing_message = \"\"\"Introducing our latest collection of premium leather handbags. Each bag is meticulously crafted using the finest leather, ensuring durability and elegance. With a variety of designs and colors, our handbags are perfect for any occasion. Shop now and experience the epitome of style and quality.\"\"\"\n",
    "\n",
    "prompt = f\"\"\"Translate the English text delimited by triple backticks to French, Spanish, and Japanese:\n",
    "```{marketing_message}```\"\"\"\n",
    " \n",
    "response = get_response(prompt)\n",
    "\n",
    "print(\"English:\", marketing_message)\n",
    "print(response)"
   ]
  },
  {
   "cell_type": "markdown",
   "metadata": {},
   "source": [
    "## Tone adjustment for email marketing"
   ]
  },
  {
   "cell_type": "code",
   "execution_count": 8,
   "metadata": {},
   "outputs": [
    {
     "name": "stdout",
     "output_type": "stream",
     "text": [
      "Before transformation: \n",
      " \n",
      "Subject: Check out our latest products!\n",
      "    \n",
      "Dear Customer,\n",
      "\n",
      "We are excited to introduce our latest product line that includes a wide range of items to suit your needs. Whether you're looking for electronics, home appliances, or fashion accessories, we have it all!\n",
      "\n",
      "Hurry and visit our website to explore the fantastic deals and discounts we have for you. Don't miss out on the opportunity to get the best products at unbeatable prices.\n",
      "\n",
      "Thank you for being a valued customer, and we look forward to serving you soon!\n",
      "\n",
      "Best regards,\n",
      "The Marketing Team\n",
      "\n",
      "After transformation: \n",
      " Subject: Check out our latest products!\n",
      "\n",
      "Dear Customer,\n",
      "\n",
      "We are thrilled to announce the launch of our newest product line, designed to cater to your diverse needs. From cutting-edge electronics to top-of-the-line home appliances and trendy fashion accessories, we have curated a collection that is sure to impress.\n",
      "\n",
      "We invite you to visit our website and discover the incredible deals and discounts we have in store for you. With our unbeatable prices, now is the perfect time to upgrade your gadgets, enhance your living space, or add a touch of style to your wardrobe.\n",
      "\n",
      "As a valued customer, your satisfaction is our top priority. We are committed to providing you with exceptional products and a seamless shopping experience. Should you have any questions or require assistance, our dedicated customer support team is always here to help.\n",
      "\n",
      "Thank you for choosing us as your trusted shopping destination. We appreciate your continued support and look forward to serving you with our latest offerings.\n",
      "\n",
      "Best regards,\n",
      "The Marketing Team\n"
     ]
    }
   ],
   "source": [
    "sample_email = \"\"\"\n",
    "Subject: Check out our latest products!\n",
    "    \n",
    "Dear Customer,\n",
    "\n",
    "We are excited to introduce our latest product line that includes a wide range of items to suit your needs. Whether you're looking for electronics, home appliances, or fashion accessories, we have it all!\n",
    "\n",
    "Hurry and visit our website to explore the fantastic deals and discounts we have for you. Don't miss out on the opportunity to get the best products at unbeatable prices.\n",
    "\n",
    "Thank you for being a valued customer, and we look forward to serving you soon!\n",
    "\n",
    "Best regards,\n",
    "The Marketing Team\n",
    "\"\"\"\n",
    "\n",
    "prompt = f\"\"\"Write the text delimited by triple backticks using a professional, positive, and user-centric tone:\n",
    "```{sample_email}```\"\"\"\n",
    "\n",
    "response = get_response(prompt)\n",
    "\n",
    "print(\"Before transformation: \\n\", sample_email)\n",
    "print(\"After transformation: \\n\", response)"
   ]
  },
  {
   "cell_type": "markdown",
   "metadata": {},
   "source": [
    "## Writing improvement"
   ]
  },
  {
   "cell_type": "code",
   "execution_count": 9,
   "metadata": {},
   "outputs": [
    {
     "name": "stdout",
     "output_type": "stream",
     "text": [
      "Before transformation:\n",
      " Hey guys, wanna know a cool trick? Here's how u can up your productivity game! First, download this awesome app, it's like the best thing ever! Then, just start using it and u'll see the difference. Its super easy and fun, trust me! So, what are u waiting for? Try it out now!\n",
      "After transformation:\n",
      " Step 1 - Proofread without changing structure:\n",
      "Hey guys, wanna know a cool trick? Here's how you can up your productivity game! First, download this awesome app, it's like the best thing ever! Then, just start using it and you'll see the difference. It's super easy and fun, trust me! So, what are you waiting for? Try it out now!\n",
      "\n",
      "Step 2 - Change the tone to be formal and friendly:\n",
      "Hello everyone, would you like to learn a valuable trick? Allow me to share with you a method to enhance your productivity. Firstly, I recommend downloading this remarkable application, as it is truly exceptional. Once you begin utilizing it, you will undoubtedly notice a significant improvement. Rest assured, it is incredibly user-friendly and enjoyable. So, why delay any further? I encourage you to give it a try without hesitation!\n"
     ]
    }
   ],
   "source": [
    "text = \"\"\"Hey guys, wanna know a cool trick? Here's how u can up your productivity game! First, download this awesome app, it's like the best thing ever! Then, just start using it and u'll see the difference. Its super easy and fun, trust me! So, what are u waiting for? Try it out now!\"\"\"\n",
    "\n",
    "prompt = f\"\"\"Transform the text delimited by triple backticks with the following two steps:\n",
    "Step 1 - Proofread it without changing its structure\n",
    "Step 2 - Change the tone to be formal and friendly\n",
    "```{text}```\"\"\"\n",
    "\n",
    "response = get_response(prompt)\n",
    "\n",
    "print(\"Before transformation:\\n\", text)\n",
    "print(\"After transformation:\\n\", response)"
   ]
  },
  {
   "cell_type": "markdown",
   "metadata": {},
   "source": [
    "# Text analysis"
   ]
  },
  {
   "cell_type": "markdown",
   "metadata": {},
   "source": [
    "## Customer support ticket analysis"
   ]
  },
  {
   "cell_type": "code",
   "execution_count": 10,
   "metadata": {},
   "outputs": [
    {
     "name": "stdout",
     "output_type": "stream",
     "text": [
      "Ticket:  \n",
      "Subject: Urgent - Login Error\n",
      "    \n",
      "Hi Support Team,\n",
      "\n",
      "I'm having trouble accessing my account with the username \"example_user.\" Every time I try to log in, I encounter an error message. I've already attempted to reset my password, but the issue persists. I need to resolve this problem urgently, as I have pending tasks that require immediate attention.\n",
      "\n",
      "Please investigate and assist promptly.\n",
      "\n",
      "Thanks,\n",
      "John.\n",
      "\n",
      "Class:  This ticket can be classified as a technical issue.\n"
     ]
    }
   ],
   "source": [
    "ticket = \"\"\"\n",
    "Subject: Urgent - Login Error\n",
    "    \n",
    "Hi Support Team,\n",
    "\n",
    "I'm having trouble accessing my account with the username \"example_user.\" Every time I try to log in, I encounter an error message. I've already attempted to reset my password, but the issue persists. I need to resolve this problem urgently, as I have pending tasks that require immediate attention.\n",
    "\n",
    "Please investigate and assist promptly.\n",
    "\n",
    "Thanks,\n",
    "John.\n",
    "\"\"\"\n",
    "\n",
    "prompt = f\"\"\"Classify the ticket delimited by triple backticks as technical issue, billing inquiry, or product feedback: ```{ticket}```\"\"\"\n",
    "\n",
    "response = get_response(prompt)\n",
    "\n",
    "print(\"Ticket: \", ticket)\n",
    "print(\"Class: \", response)"
   ]
  },
  {
   "cell_type": "markdown",
   "metadata": {},
   "source": [
    "## Customer support ticket analysis"
   ]
  },
  {
   "cell_type": "code",
   "execution_count": 11,
   "metadata": {},
   "outputs": [
    {
     "name": "stdout",
     "output_type": "stream",
     "text": [
      "Ticket: \n",
      " Greetings, I am facing technical difficulties with your software, ABC Editor. My name is Sarah Lee, and I recently upgraded to the latest version. However, whenever I try to save my work, the software crashes. Can you please help me resolve this problem?\n",
      "Entities: \n",
      " * Customer Details:\n",
      "  - Name: Sarah Lee\n",
      "* Product/Service Mentions:\n",
      "  - Product: ABC Editor (software)\n",
      "  - Service: latest version\n"
     ]
    }
   ],
   "source": [
    "ticket_1 = \"Hi there! My name is John Smith, and I am experiencing issues with your premium software, XYZ Pro. My license key is ABC12345. I purchased it last week, but it's not activating properly on my computer.\"\n",
    "ticket_2 = \"Dear support team, I am writing to inquire about the delivery status of my order. My name is Jane Doe, and I placed an order for a laptop on your website two days ago. The order number is ORD56789. Can you please provide an update on the delivery?\"\n",
    "ticket_3 = \"Hello, I am having trouble accessing my account on your mobile app. My name is Alex Johnson, and I have a subscription for your Gold Plan. Can you help me resolve this issue?\"\n",
    "ticket_4 = \"Greetings, I am facing technical difficulties with your software, ABC Editor. My name is Sarah Lee, and I recently upgraded to the latest version. However, whenever I try to save my work, the software crashes. Can you please help me resolve this problem?\"\n",
    "\n",
    "entities_1 = \"\"\"\n",
    "* Customer Details:\n",
    "  - Name: John Smith\n",
    "  - License Key: ABC12345\n",
    "* Product/Service Mentions:\n",
    "  - Product: XYZ Pro (premium software)\n",
    "\"\"\"\n",
    "\n",
    "entities_2 = \"\"\"\n",
    "* Customer Details:\n",
    "  - Name: Jane Doe\n",
    "* Product/Service Mentions:\n",
    "  - Product: laptop\n",
    "\"\"\"\n",
    "\n",
    "entities_3 = \"\"\"\n",
    "* Customer Details:\n",
    "  - Name: Alex Johnson\n",
    "* Product/Service Mentions:\n",
    "  - Product: mobile app\n",
    "  - Service: Gold Plan\n",
    "\"\"\"\n",
    "\n",
    "prompt = f\"\"\"Ticket: {ticket_1} -> Entities: {entities_1}\n",
    "            Ticket: {ticket_2} -> Entities: {entities_2}\n",
    "            Ticket: {ticket_3} -> Entities: {entities_3}\n",
    "            Ticket: {ticket_4} -> Entities: \"\"\"\n",
    "\n",
    "response = get_response(prompt)\n",
    "\n",
    "print(\"Ticket: \\n\", ticket_4)\n",
    "print(\"Entities: \\n\", response)"
   ]
  },
  {
   "cell_type": "markdown",
   "metadata": {},
   "source": [
    "# Code generation and explanation"
   ]
  },
  {
   "cell_type": "markdown",
   "metadata": {},
   "source": [
    "## Code generation with problem description"
   ]
  },
  {
   "cell_type": "code",
   "execution_count": 12,
   "metadata": {},
   "outputs": [
    {
     "name": "stdout",
     "output_type": "stream",
     "text": [
      "Here is a Python function that receives a list of 12 floats representing monthly sales data and returns the month with the highest sales value:\n",
      "\n",
      "```python\n",
      "def highest_sales_month(sales_data):\n",
      "    # Initialize variables\n",
      "    max_sales = float('-inf')\n",
      "    max_month = None\n",
      "    \n",
      "    # Iterate over the sales data\n",
      "    for month, sales in enumerate(sales_data):\n",
      "        # Check if current sales value is higher than the maximum\n",
      "        if sales > max_sales:\n",
      "            max_sales = sales\n",
      "            max_month = month + 1  # Add 1 to month index to get the actual month\n",
      "    \n",
      "    return max_month\n",
      "```\n",
      "\n",
      "To use this function, you can pass a list of 12 floats representing monthly sales data as an argument. For example:\n",
      "\n",
      "```python\n",
      "sales_data = [1000.5, 1500.2, 2000.7, 1800.3, 2500.9, 2200.6, 1900.4, 2300.1, 2100.8, 2400.0, 2700.2, 2600.5]\n",
      "highest_month = highest_sales_month(sales_data)\n",
      "print(\"The month with the highest sales value is:\", highest_month)\n",
      "```\n",
      "\n",
      "Output:\n",
      "```\n",
      "The month with the highest sales value is: 12\n",
      "```\n",
      "\n",
      "In this example, the function returns 12, indicating that the highest sales value occurred in the 12th month.\n"
     ]
    }
   ],
   "source": [
    "prompt = \"\"\"Write a Python function that receives a list of 12 floats representing monthly sales data as input and, returns the month with the highest sales value as output.\"\"\"\n",
    "\n",
    "response = get_response(prompt)\n",
    "print(response)"
   ]
  },
  {
   "cell_type": "markdown",
   "metadata": {},
   "source": [
    "## Input-output examples for code generation"
   ]
  },
  {
   "cell_type": "code",
   "execution_count": 13,
   "metadata": {},
   "outputs": [
    {
     "name": "stdout",
     "output_type": "stream",
     "text": [
      "def calculate_completion_time(factors):\n",
      "    return sum(factors)\n"
     ]
    }
   ],
   "source": [
    "examples=\"\"\"input = [10, 5, 8] -> output = 24\n",
    "input = [5, 2, 4] -> output = 12\n",
    "input = [2, 1, 3] -> output = 7\n",
    "input = [8, 4, 6] -> output = 19\n",
    "\"\"\"\n",
    "\n",
    "# Craft a prompt that asks the model for the function\n",
    "prompt = f\"\"\"You are provided with input-output examples delimited by triple backticks for a Python function where different factors are associated with project completion time. Each example includes numerical values for the factors and the corresponding estimated completion time. Write a code for this function.\n",
    " ```{examples}```\"\"\"\n",
    "\n",
    "response = get_response(prompt)\n",
    "print(response)"
   ]
  },
  {
   "cell_type": "markdown",
   "metadata": {},
   "source": [
    "## Modify code with multi-step prompts"
   ]
  },
  {
   "cell_type": "code",
   "execution_count": 14,
   "metadata": {},
   "outputs": [
    {
     "name": "stdout",
     "output_type": "stream",
     "text": [
      "def calculate_area_rectangular_floor(width, length):\n",
      "    if width <= 0 or length <= 0:\n",
      "        return \"Error: Width and length must be positive numbers.\"\n",
      "    else:\n",
      "        area = width * length\n",
      "        perimeter = 2 * (width + length)\n",
      "        return area, perimeter\n"
     ]
    }
   ],
   "source": [
    "function = \"\"\"def calculate_area_rectangular_floor(width, length):\n",
    "\t\t\t\t\treturn width*length\"\"\"\n",
    "\n",
    "# Craft a multi-step prompt that asks the model to adjust the function\n",
    "prompt = f\"\"\"Modify the function delimited by triple backticks as follows:\n",
    "- Return the perimeter of the rectangle as well.\n",
    "- Test if the inputs (floor dimensions) are positive, and if not, display appropriate error messages.\n",
    "```{function}```\"\"\"\n",
    "\n",
    "response = get_response(prompt)\n",
    "print(response)"
   ]
  },
  {
   "cell_type": "markdown",
   "metadata": {},
   "source": [
    "## Explaining code step by step"
   ]
  },
  {
   "cell_type": "code",
   "execution_count": 15,
   "metadata": {},
   "outputs": [
    {
     "name": "stdout",
     "output_type": "stream",
     "text": [
      "The function `analyze_portfolio` takes in a parameter `portfolio_data`, which is expected to be a list of entries. Each entry is expected to be a tuple with two elements: the first element is a string representing the name of an asset, and the second element is a numeric value representing the value of that asset.\n",
      "\n",
      "The function initializes three variables: `total_value`, `highest_value`, and `lowest_value`. `total_value` is set to 0, `highest_value` is set to 0, and `lowest_value` is set to positive infinity.\n",
      "\n",
      "The function then iterates over each entry in `portfolio_data`. For each entry, it adds the value of the asset (the second element of the entry) to `total_value`. It also checks if the value of the asset is greater than the current `highest_value` and updates `highest_value` if necessary. Similarly, it checks if the value of the asset is less than the current `lowest_value` and updates `lowest_value` if necessary.\n",
      "\n",
      "After the loop, the function calculates the `average_value` by dividing `total_value` by the length of `portfolio_data`.\n",
      "\n",
      "Finally, the function returns a tuple containing `highest_value`, `lowest_value`, and `average_value`.\n"
     ]
    }
   ],
   "source": [
    "function = \"\"\"\n",
    "def analyze_portfolio(portfolio_data):\n",
    "  total_value = 0\n",
    "  highest_value = 0\n",
    "  lowest_value = float('inf')\n",
    "  \n",
    "  for entry in portfolio_data:\n",
    "    total_value += entry[1]\n",
    "    if entry[1] > highest_value:\n",
    "        highest_value = entry[1]\n",
    "    if entry[1] < lowest_value:\n",
    "        lowest_value = entry[1]\n",
    "\n",
    "  average_value = total_value / len(portfolio_data)\n",
    "  return highest_value, lowest_value, average_value\n",
    "\"\"\"\n",
    "\n",
    "prompt = f\"\"\"Explain what the function delimited by triple backticks does.\n",
    "Let's think step by step.\n",
    "```{function}```\"\"\"\n",
    " \n",
    "response = get_response(prompt)\n",
    "print(response)"
   ]
  }
 ],
 "metadata": {
  "kernelspec": {
   "display_name": "Python 3 (ipykernel)",
   "language": "python",
   "name": "python3"
  },
  "language_info": {
   "codemirror_mode": {
    "name": "ipython",
    "version": 3
   },
   "file_extension": ".py",
   "mimetype": "text/x-python",
   "name": "python",
   "nbconvert_exporter": "python",
   "pygments_lexer": "ipython3",
   "version": "3.12.1"
  }
 },
 "nbformat": 4,
 "nbformat_minor": 4
}
