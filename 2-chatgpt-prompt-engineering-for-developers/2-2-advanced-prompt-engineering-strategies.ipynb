{
 "cells": [
  {
   "cell_type": "markdown",
   "metadata": {},
   "source": [
    "# Few-shot prompting"
   ]
  },
  {
   "cell_type": "code",
   "execution_count": 1,
   "metadata": {},
   "outputs": [],
   "source": [
    "from openai import OpenAI\n",
    "import os\n",
    "\n",
    "from dotenv import load_dotenv, find_dotenv\n",
    "_ = load_dotenv(find_dotenv())\n",
    "\n",
    "client = OpenAI(api_key=os.getenv('OPENAI_API_KEY'))"
   ]
  },
  {
   "cell_type": "code",
   "execution_count": 2,
   "metadata": {},
   "outputs": [],
   "source": [
    "def get_response(prompt):\n",
    "  response = client.chat.completions.create(\n",
    "    model=\"gpt-3.5-turbo\",\n",
    "    messages=[{\"role\": \"user\", \"content\": prompt}], \n",
    "    temperature = 0)\n",
    "  return response.choices[0].message.content"
   ]
  },
  {
   "cell_type": "markdown",
   "metadata": {},
   "source": [
    "## Controlling output structure"
   ]
  },
  {
   "cell_type": "code",
   "execution_count": 3,
   "metadata": {},
   "outputs": [
    {
     "name": "stdout",
     "output_type": "stream",
     "text": [
      "{3, 5, 11}\n"
     ]
    }
   ],
   "source": [
    "prompt = \"\"\"\n",
    "Q: Extract the odd numbers from {1, 3, 7, 12, 19}. A: {1, 3, 7, 19}\n",
    "Q: Extract the odd numbers from {3, 5, 11, 12, 16}. A:\n",
    "\"\"\"\n",
    "\n",
    "response = get_response(prompt)\n",
    "print(response)"
   ]
  },
  {
   "cell_type": "markdown",
   "metadata": {},
   "source": [
    "## Sentiment analysis with few-shot prompting"
   ]
  },
  {
   "cell_type": "code",
   "execution_count": 4,
   "metadata": {},
   "outputs": [
    {
     "name": "stdout",
     "output_type": "stream",
     "text": [
      "1\n"
     ]
    }
   ],
   "source": [
    "response = client.chat.completions.create(\n",
    "  model = \"gpt-3.5-turbo\",\n",
    "  messages = [{\"role\": \"user\", \"content\": \"The product quality exceeded my expectations.\"},\n",
    "              {\"role\": \"assistant\", \"content\": \"1\"},\n",
    "              {\"role\": \"user\", \"content\": \"I had a terrible experience with this product's customer service.\"},\n",
    "              {\"role\": \"assistant\", \"content\": \"-1\"},\n",
    "              {\"role\": \"user\", \"content\": \"The price of the product is really fair given its features.\"}\n",
    "             ],\n",
    "  temperature = 0\n",
    ")\n",
    "print(response.choices[0].message.content)"
   ]
  },
  {
   "cell_type": "markdown",
   "metadata": {},
   "source": [
    "# Multi-step prompting"
   ]
  },
  {
   "cell_type": "markdown",
   "metadata": {},
   "source": [
    "## Single-step prompt"
   ]
  },
  {
   "cell_type": "code",
   "execution_count": 5,
   "metadata": {},
   "outputs": [
    {
     "name": "stdout",
     "output_type": "stream",
     "text": [
      "Plan for a Beach Vacation:\n",
      "\n",
      "1. Choose the Destination:\n",
      "   - Research different beach destinations based on preferences such as tropical, secluded, family-friendly, or adventurous.\n",
      "   - Consider factors like weather, accessibility, and budget.\n",
      "   - Popular options include Hawaii, Maldives, Bali, Cancun, or the Greek Islands.\n",
      "\n",
      "2. Set a Budget:\n",
      "   - Determine the overall budget for the vacation, including accommodation, transportation, meals, activities, and souvenirs.\n",
      "   - Allocate funds for each category to ensure a balanced spending plan.\n",
      "\n",
      "3. Book Accommodation:\n",
      "   - Look for beachfront resorts, hotels, or vacation rentals that suit your preferences and budget.\n",
      "   - Consider amenities like pools, beach access, restaurants, and proximity to attractions.\n",
      "   - Read reviews and compare prices before making a reservation.\n",
      "\n",
      "4. Arrange Transportation:\n",
      "   - Decide on the mode of transportation, whether it's flying, driving, or taking a train.\n",
      "   - Book flights or plan the road trip accordingly, considering the duration and cost.\n",
      "   - If flying, check for any necessary travel documents, such as passports or visas.\n",
      "\n",
      "5. Pack Essentials:\n",
      "   - Make a checklist of essential items like swimwear, sunscreen, hats, sunglasses, beach towels, flip-flops, and beach toys.\n",
      "   - Don't forget to pack clothes suitable for the beach, as well as casual and evening attire.\n",
      "   - Include any necessary medications, toiletries, and electronics.\n",
      "\n",
      "6. Plan Activities:\n",
      "   - Research and make a list of activities available at the destination, such as snorkeling, surfing, kayaking, or beach volleyball.\n",
      "   - Look for local attractions like nature reserves, water parks, or cultural sites.\n",
      "   - Consider booking any tours or excursions in advance to secure availability.\n",
      "\n",
      "7. Create a Daily Itinerary:\n",
      "   - Plan a rough schedule for each day, including time for relaxation, exploration, and activities.\n",
      "   - Allow flexibility for spontaneous activities or changes in weather.\n",
      "   - Prioritize must-visit places or experiences to ensure they are not missed.\n",
      "\n",
      "8. Explore Local Cuisine:\n",
      "   - Research local restaurants or street food options to try regional delicacies.\n",
      "   - Ask locals or hotel staff for recommendations on popular dining spots.\n",
      "   - Consider trying seafood, tropical fruits, or traditional dishes to immerse in the local culture.\n",
      "\n",
      "9. Stay Safe:\n",
      "   - Familiarize yourself with local safety guidelines, including beach flags, currents, and any potential hazards.\n",
      "   - Follow basic safety precautions like using sunscreen, staying hydrated, and swimming in designated areas.\n",
      "   - Keep important documents, money, and valuables secure.\n",
      "\n",
      "10. Relax and Enjoy:\n",
      "    - Embrace the laid-back beach vibe and take time to unwind and recharge.\n",
      "    - Capture memorable moments through photos or journaling.\n",
      "    - Make the most of the vacation by enjoying the sun, sand, and sea.\n"
     ]
    }
   ],
   "source": [
    "prompt = \"Create a plan for a beach vacation.\"\n",
    "\n",
    "response = get_response(prompt)\n",
    "print(response)"
   ]
  },
  {
   "cell_type": "markdown",
   "metadata": {},
   "source": [
    "## Multi-step prompt"
   ]
  },
  {
   "cell_type": "code",
   "execution_count": 6,
   "metadata": {},
   "outputs": [
    {
     "name": "stdout",
     "output_type": "stream",
     "text": [
      "Step 1 - Specify four potential locations:\n",
      "1. Maui, Hawaii\n",
      "2. Cancun, Mexico\n",
      "3. Bali, Indonesia\n",
      "4. Maldives\n",
      "\n",
      "Step 2 - Accommodation options in each location:\n",
      "Maui, Hawaii:\n",
      "- The Ritz-Carlton, Kapalua\n",
      "- Four Seasons Resort Maui at Wailea\n",
      "- Grand Wailea Maui, A Waldorf Astoria Resort\n",
      "\n",
      "Cancun, Mexico:\n",
      "- JW Marriott Cancun Resort & Spa\n",
      "- The Ritz-Carlton, Cancun\n",
      "- Hyatt Ziva Cancun\n",
      "\n",
      "Bali, Indonesia:\n",
      "- Ayana Resort and Spa, Bali\n",
      "- The Mulia Bali\n",
      "- COMO Uma Canggu\n",
      "\n",
      "Maldives:\n",
      "- Gili Lankanfushi Maldives\n",
      "- Six Senses Laamu\n",
      "- Conrad Maldives Rangali Island\n",
      "\n",
      "Step 3 - Activities in each location:\n",
      "Maui, Hawaii:\n",
      "- Snorkeling at Molokini Crater\n",
      "- Road to Hana scenic drive\n",
      "- Surfing lessons at Ka'anapali Beach\n",
      "\n",
      "Cancun, Mexico:\n",
      "- Exploring the Mayan ruins of Tulum\n",
      "- Swimming in the cenotes (natural sinkholes)\n",
      "- Scuba diving in the Mesoamerican Barrier Reef\n",
      "\n",
      "Bali, Indonesia:\n",
      "- Visiting the iconic Uluwatu Temple\n",
      "- Exploring the rice terraces in Ubud\n",
      "- Taking a traditional Balinese cooking class\n",
      "\n",
      "Maldives:\n",
      "- Snorkeling or diving in the crystal-clear waters\n",
      "- Relaxing on pristine white sandy beaches\n",
      "- Enjoying a sunset cruise or dolphin watching excursion\n",
      "\n",
      "Step 4 - Evaluation of the pros and cons of each location:\n",
      "Maui, Hawaii:\n",
      "Pros: Beautiful beaches, diverse activities, stunning natural landscapes.\n",
      "Cons: Higher cost of accommodation and travel, potential crowds during peak seasons.\n",
      "\n",
      "Cancun, Mexico:\n",
      "Pros: Affordable options, rich cultural heritage, vibrant nightlife.\n",
      "Cons: Crowded beaches, potential language barrier for non-Spanish speakers.\n",
      "\n",
      "Bali, Indonesia:\n",
      "Pros: Unique cultural experiences, affordable accommodations, picturesque landscapes.\n",
      "Cons: Longer travel time, potential for rainy season during certain months.\n",
      "\n",
      "Maldives:\n",
      "Pros: Unparalleled luxury, pristine beaches, world-class snorkeling and diving.\n",
      "Cons: Higher cost of accommodation and travel, limited cultural experiences.\n",
      "\n",
      "Based on personal preferences, budget, and desired experiences, individuals can evaluate the pros and cons of each location to make an informed decision for their beach vacation.\n"
     ]
    }
   ],
   "source": [
    "prompt = \"\"\"Create a plan for a beach vacation as follows:\n",
    "Step 1 - Specify four potential locations.\n",
    "Step 2 - Offer some accommodation options in each location.\n",
    "Step 3 - Offer some activities in each location.\n",
    "Step 4 - Do an evaluation of the pros and cons of each location.\"\"\"\n",
    "\n",
    "response = get_response(prompt)\n",
    "print(response)"
   ]
  },
  {
   "cell_type": "markdown",
   "metadata": {},
   "source": [
    "## Analyze solution correctness"
   ]
  },
  {
   "cell_type": "code",
   "execution_count": 7,
   "metadata": {},
   "outputs": [
    {
     "name": "stdout",
     "output_type": "stream",
     "text": [
      "The function meets all the criteria:\n",
      "\n",
      "1- It has correct syntax. The function is defined using the `def` keyword, followed by the function name `calculate_rectangle_area`, and the parameters `length` and `width` are specified within the parentheses. The function body is indented correctly, and the `return` statement is used to return the calculated area.\n",
      "\n",
      "2- The function receives only 2 inputs. The parameters `length` and `width` are specified in the function definition, indicating that the function expects these two inputs.\n",
      "\n",
      "3- The function returns only one output. The `return` statement is used to return the calculated area, which is stored in the `area` variable. Since only one value is returned, the function meets this criterion.\n",
      "\n",
      "Overall, the function appears to be correct according to the given criteria.\n"
     ]
    }
   ],
   "source": [
    "code = '''\n",
    "def calculate_rectangle_area(length, width):\n",
    "    area = length * width\n",
    "    return area\n",
    "'''\n",
    "\n",
    "prompt = f\"\"\"\n",
    "     Analyze the correctness of the function delimited by triple backticks according to the following criteria:\n",
    "      1- It should have correct syntax\n",
    "      2- The function should receive only 2 inputs\n",
    "      3- The function should return only one output\n",
    "      ```{code}```\n",
    "    \"\"\"\n",
    "\n",
    "response = get_response(prompt)\n",
    "print(response)"
   ]
  },
  {
   "cell_type": "markdown",
   "metadata": {},
   "source": [
    "# Chain-of-thought and self-consistency prompting"
   ]
  },
  {
   "cell_type": "markdown",
   "metadata": {},
   "source": [
    "## Reasoning with chain-of-thought prompts"
   ]
  },
  {
   "cell_type": "code",
   "execution_count": 8,
   "metadata": {},
   "outputs": [
    {
     "name": "stdout",
     "output_type": "stream",
     "text": [
      "First, we need to determine the age of the friend's father. We know that the friend's father is double the age of the friend, who is 20 years old. \n",
      "\n",
      "So, the friend's father's age is 20 x 2 = 40 years old.\n",
      "\n",
      "Now, we need to calculate the friend's father's age in 10 years. \n",
      "\n",
      "In 10 years, the friend's father will be 40 + 10 = 50 years old. \n",
      "\n",
      "Therefore, in 10 years, the friend's father will be 50 years old.\n"
     ]
    }
   ],
   "source": [
    "prompt = \"\"\"My friend's father is double my friend's age, and my friend is 20. What will be my friend's father age in 10 years?\n",
    "A: Let's think step by step\"\"\"\n",
    "\n",
    "response = get_response(prompt)\n",
    "print(response)"
   ]
  },
  {
   "cell_type": "markdown",
   "metadata": {},
   "source": [
    "## One-shot chain-of-thought prompts"
   ]
  },
  {
   "cell_type": "code",
   "execution_count": 9,
   "metadata": {},
   "outputs": [
    {
     "name": "stdout",
     "output_type": "stream",
     "text": [
      "Even numbers: {82, 14}. Adding them: 82+14=96\n"
     ]
    }
   ],
   "source": [
    "example = \"\"\"Q: Sum the even numbers in the following set: {9, 10, 13, 4, 2}.\n",
    "             A: Even numbers: {10, 4, 2}. Adding them: 10+4+2=16\"\"\"\n",
    "\n",
    "question = \"\"\"Q: Sum the even numbers in the following set: {15, 13, 82, 7, 14}. \n",
    "              A:\"\"\"\n",
    "\n",
    "prompt = example + question\n",
    "response = get_response(prompt)\n",
    "print(response)"
   ]
  },
  {
   "cell_type": "markdown",
   "metadata": {},
   "source": [
    "## Self-consistency prompts"
   ]
  },
  {
   "cell_type": "code",
   "execution_count": 10,
   "metadata": {},
   "outputs": [
    {
     "name": "stdout",
     "output_type": "stream",
     "text": [
      "Expert 1: \n",
      "\n",
      "At the start of the day, we have 50 devices in total, out of which 60% are mobile phones. So, we have 50 * 0.6 = 30 mobile phones and the remaining 50 - 30 = 20 laptops.\n",
      "\n",
      "Throughout the day, three clients visited the store, each buying one mobile phone. So, we sell 3 mobile phones, which leaves us with 30 - 3 = 27 mobile phones.\n",
      "\n",
      "One of the clients also bought a laptop, so we sell one laptop, leaving us with 20 - 1 = 19 laptops.\n",
      "\n",
      "We added 10 laptops and 5 mobile phones to our collection. So, we have 19 + 10 = 29 laptops and 27 + 5 = 32 mobile phones.\n",
      "\n",
      "Therefore, by the end of the day, we have 29 laptops and 32 mobile phones.\n",
      "\n",
      "Expert 2: \n",
      "\n",
      "At the start of the day, we have 50 devices in total, out of which 60% are mobile phones. So, we have 50 * 0.6 = 30 mobile phones and the remaining 50 - 30 = 20 laptops.\n",
      "\n",
      "Throughout the day, three clients visited the store, each buying one mobile phone. So, we sell 3 mobile phones, which leaves us with 30 - 3 = 27 mobile phones.\n",
      "\n",
      "One of the clients also bought a laptop, so we sell one laptop, leaving us with 20 - 1 = 19 laptops.\n",
      "\n",
      "We added 10 laptops and 5 mobile phones to our collection. So, we have 19 + 10 = 29 laptops and 27 + 5 = 32 mobile phones.\n",
      "\n",
      "Therefore, by the end of the day, we have 29 laptops and 32 mobile phones.\n",
      "\n",
      "Expert 3: \n",
      "\n",
      "At the start of the day, we have 50 devices in total, out of which 60% are mobile phones. So, we have 50 * 0.6 = 30 mobile phones and the remaining 50 - 30 = 20 laptops.\n",
      "\n",
      "Throughout the day, three clients visited the store, each buying one mobile phone. So, we sell 3 mobile phones, which leaves us with 30 - 3 = 27 mobile phones.\n",
      "\n",
      "One of the clients also bought a laptop, so we sell one laptop, leaving us with 20 - 1 = 19 laptops.\n",
      "\n",
      "We added 10 laptops and 5 mobile phones to our collection. So, we have 19 + 10 = 29 laptops and 27 + 5 = 32 mobile phones.\n",
      "\n",
      "Therefore, by the end of the day, we have 29 laptops and 32 mobile phones.\n",
      "\n",
      "Final Answer: \n",
      "\n",
      "Since all three experts reason the same way and provide the same answer, the majority vote is unanimous. Therefore, by the end of the day, you have 29 laptops and 32 mobile phones.\n"
     ]
    }
   ],
   "source": [
    "self_consistency_instruction = \"\"\"Imagine three completely independent experts who reason differently are answering this question. The final answer is obtained by majority vote. The question is: \"\"\"\n",
    "\n",
    "problem_to_solve = \"If you own a store that sells laptops and mobile phones. You start your day with 50 devices in the store, out of which 60% are mobile phones. Throughout the day, three clients visited the store, each of them bought one mobile phone, and one of them bought additionally a laptop. Also, you added to your collection 10 laptops and 5 mobile phones. How many laptops and mobile phones do you have by the end of the day?\"\n",
    "\n",
    "prompt = self_consistency_instruction + problem_to_solve\n",
    "\n",
    "response = get_response(prompt)\n",
    "print(response)"
   ]
  },
  {
   "cell_type": "markdown",
   "metadata": {},
   "source": [
    "# Iterative prompt engineering and refinement"
   ]
  },
  {
   "cell_type": "markdown",
   "metadata": {},
   "source": [
    "## Iterative prompt engineering for standard prompts"
   ]
  },
  {
   "cell_type": "code",
   "execution_count": 11,
   "metadata": {},
   "outputs": [
    {
     "name": "stdout",
     "output_type": "stream",
     "text": [
      "Here is a table with the top 10 pre-trained language models, including their model name, release year, and owning company:\n",
      "\n",
      "| Model Name              | Release Year | Owning Company |\n",
      "|-------------------------|--------------|----------------|\n",
      "| GPT-3                   | 2020         | OpenAI         |\n",
      "| BERT                    | 2018         | Google         |\n",
      "| GPT-2                   | 2019         | OpenAI         |\n",
      "| RoBERTa                 | 2019         | Facebook       |\n",
      "| T5                      | 2020         | Google         |\n",
      "| XLNet                   | 2019         | Google         |\n",
      "| ALBERT                  | 2019         | Google         |\n",
      "| ELECTRA                 | 2020         | Google         |\n",
      "| CTRL                    | 2019         | OpenAI         |\n",
      "| DistilBERT              | 2019         | Hugging Face   |\n",
      "\n",
      "Please note that this list is not exhaustive, and there are other notable pre-trained language models available as well.\n"
     ]
    }
   ],
   "source": [
    "#prompt = \"Give me the top 10 pre-trained language models\"\n",
    "#prompt = \"Give me a table with the top 10 pre-trained language models\"\n",
    "prompt = \"Give me a table with the top 10 pre-trained language models with the following columns: model name, release year and owning company\"\n",
    "\n",
    "response = get_response(prompt)\n",
    "print(response)"
   ]
  },
  {
   "cell_type": "markdown",
   "metadata": {},
   "source": [
    "## Iterative prompt engineering fo few-shot prompts"
   ]
  },
  {
   "cell_type": "code",
   "execution_count": 12,
   "metadata": {},
   "outputs": [
    {
     "name": "stdout",
     "output_type": "stream",
     "text": [
      "no explicit emotion\n"
     ]
    }
   ],
   "source": [
    "prompt = \"\"\"\n",
    "Receiving a promotion at work made me feel on top of the world -> Happiness\n",
    "The movie's ending left me with a heavy feeling in my chest -> Sadness\n",
    "Walking alone in the dark alley sent shivers down my spine -> Fear\n",
    "Time goes by so slowly -> no explicit emotion\n",
    "Time flies like an arrow ->\n",
    "\"\"\"\n",
    "\n",
    "response = get_response(prompt)\n",
    "print(response)"
   ]
  }
 ],
 "metadata": {
  "kernelspec": {
   "display_name": "chatgpt-prompt-enginieering-for-developers",
   "language": "python",
   "name": "python3"
  },
  "language_info": {
   "codemirror_mode": {
    "name": "ipython",
    "version": 3
   },
   "file_extension": ".py",
   "mimetype": "text/x-python",
   "name": "python",
   "nbconvert_exporter": "python",
   "pygments_lexer": "ipython3",
   "version": "3.12.1"
  }
 },
 "nbformat": 4,
 "nbformat_minor": 2
}
