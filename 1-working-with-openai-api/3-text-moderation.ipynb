{
 "cells": [
  {
   "cell_type": "code",
   "execution_count": 1,
   "metadata": {},
   "outputs": [],
   "source": [
    "from openai import OpenAI\n",
    "import os\n",
    "\n",
    "from dotenv import load_dotenv, find_dotenv\n",
    "_ = load_dotenv(find_dotenv())\n",
    "\n",
    "client = OpenAI(api_key=os.getenv('OPENAI_API_KEY'))"
   ]
  },
  {
   "cell_type": "markdown",
   "metadata": {},
   "source": [
    "# Text moderation"
   ]
  },
  {
   "cell_type": "code",
   "execution_count": 2,
   "metadata": {},
   "outputs": [
    {
     "name": "stdout",
     "output_type": "stream",
     "text": [
      "{'id': 'modr-8VOMbyxnuUYRjbI7dDoTLaUJYKaCo', 'model': 'text-moderation-006', 'results': [{'categories': {'harassment': False, 'harassment_threatening': False, 'hate': False, 'hate_threatening': False, 'self_harm': False, 'self_harm_instructions': False, 'self_harm_intent': False, 'sexual': False, 'sexual_minors': False, 'violence': False, 'violence_graphic': False, 'self-harm': False, 'sexual/minors': False, 'hate/threatening': False, 'violence/graphic': False, 'self-harm/intent': False, 'self-harm/instructions': False, 'harassment/threatening': False}, 'category_scores': {'harassment': 2.782739102258347e-05, 'harassment_threatening': 1.3707166317544761e-06, 'hate': 2.7673624458657287e-07, 'hate_threatening': 4.868901015697702e-08, 'self_harm': 1.1430985978222452e-05, 'self_harm_instructions': 5.463204111322284e-09, 'self_harm_intent': 1.067981884261826e-06, 'sexual': 2.0183774722681846e-06, 'sexual_minors': 6.042811140360982e-09, 'violence': 0.0009962304029613733, 'violence_graphic': 7.216094218165381e-06, 'self-harm': 1.1430985978222452e-05, 'sexual/minors': 6.042811140360982e-09, 'hate/threatening': 4.868901015697702e-08, 'violence/graphic': 7.216094218165381e-06, 'self-harm/intent': 1.067981884261826e-06, 'self-harm/instructions': 5.463204111322284e-09, 'harassment/threatening': 1.3707166317544761e-06}, 'flagged': False}]}\n"
     ]
    }
   ],
   "source": [
    "response = client.moderations.create(\n",
    "  model=\"text-moderation-latest\",\n",
    "  input=\"I could kill for a hamburger.\"\n",
    ")\n",
    "\n",
    "print(response.model_dump())"
   ]
  },
  {
   "cell_type": "markdown",
   "metadata": {},
   "source": [
    "## Interpreting the category score"
   ]
  },
  {
   "cell_type": "code",
   "execution_count": 3,
   "metadata": {},
   "outputs": [
    {
     "name": "stdout",
     "output_type": "stream",
     "text": [
      "CategoryScores(harassment=2.782739102258347e-05, harassment_threatening=1.3707166317544761e-06, hate=2.7673624458657287e-07, hate_threatening=4.868901015697702e-08, self_harm=1.1430985978222452e-05, self_harm_instructions=5.463204111322284e-09, self_harm_intent=1.067981884261826e-06, sexual=2.0183774722681846e-06, sexual_minors=6.042811140360982e-09, violence=0.0009962304029613733, violence_graphic=7.216094218165381e-06, self-harm=1.1430985978222452e-05, sexual/minors=6.042811140360982e-09, hate/threatening=4.868901015697702e-08, violence/graphic=7.216094218165381e-06, self-harm/intent=1.067981884261826e-06, self-harm/instructions=5.463204111322284e-09, harassment/threatening=1.3707166317544761e-06)\n"
     ]
    }
   ],
   "source": [
    "print(response.results[0].category_scores)"
   ]
  },
  {
   "cell_type": "markdown",
   "metadata": {},
   "source": [
    "# Speech-to-Text Transcription with Whisper"
   ]
  },
  {
   "cell_type": "code",
   "execution_count": 4,
   "metadata": {},
   "outputs": [
    {
     "name": "stdout",
     "output_type": "stream",
     "text": [
      "Transcription(text='Und wie heißen Sie bitte? Ich heiße Aljoscha. Wie bitte? Aljoscha. Ich buchstabiere. A-L-J-O-S-C-H-A. Ah ja. Aljoscha. Und woher kommen Sie, Herr Aljoscha?')\n"
     ]
    }
   ],
   "source": [
    "audio_file= open(\"audio_german.mp3\", \"rb\")\n",
    "\n",
    "response = client.audio.transcriptions.create(\n",
    "  model=\"whisper-1\", \n",
    "  file=audio_file\n",
    ")\n",
    "\n",
    "print(response)"
   ]
  },
  {
   "cell_type": "markdown",
   "metadata": {},
   "source": [
    "# Speech translation with Whisper"
   ]
  },
  {
   "cell_type": "code",
   "execution_count": 6,
   "metadata": {},
   "outputs": [
    {
     "name": "stdout",
     "output_type": "stream",
     "text": [
      "C And what's your name, please? My name is Aljosha What's your name, please? Aljosha I'm spelling it A L J O S C H A Ah yes, Aljosha And where are you from, Mr. Aljosha? Aljosha\n"
     ]
    }
   ],
   "source": [
    "prompt=\"Somebody is explaining how his name is pronounced\"\n",
    "\n",
    "response = client.audio.translations.create(\n",
    "  model=\"whisper-1\",\n",
    "  file=audio_file,\n",
    "  prompt=prompt\n",
    ")\n",
    "\n",
    "print(response.text)"
   ]
  },
  {
   "cell_type": "markdown",
   "metadata": {},
   "source": [
    "# Combining models"
   ]
  },
  {
   "cell_type": "code",
   "execution_count": 7,
   "metadata": {},
   "outputs": [
    {
     "name": "stdout",
     "output_type": "stream",
     "text": [
      "The language used in the sentence is German.\n"
     ]
    }
   ],
   "source": [
    "audio_file = open(\"audio_german.mp3\", \"rb\")\n",
    "\n",
    "audio_response = client.audio.transcriptions.create(model=\"whisper-1\", file=audio_file)\n",
    "\n",
    "transcript = audio_response.text\n",
    "prompt = \"Discover the language used in: \" + transcript\n",
    "\n",
    "chat_response = client.chat.completions.create(\n",
    "  model=\"gpt-3.5-turbo\",\n",
    "  messages=[{\"role\": \"user\", \"content\": prompt}]\n",
    ")\n",
    "\n",
    "print(chat_response.choices[0].message.content)"
   ]
  }
 ],
 "metadata": {
  "kernelspec": {
   "display_name": "working-with-openai-api",
   "language": "python",
   "name": "python3"
  },
  "language_info": {
   "codemirror_mode": {
    "name": "ipython",
    "version": 3
   },
   "file_extension": ".py",
   "mimetype": "text/x-python",
   "name": "python",
   "nbconvert_exporter": "python",
   "pygments_lexer": "ipython3",
   "version": "3.11.7"
  }
 },
 "nbformat": 4,
 "nbformat_minor": 2
}
