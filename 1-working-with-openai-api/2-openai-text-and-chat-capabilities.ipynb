{
 "cells": [
  {
   "cell_type": "code",
   "execution_count": 31,
   "metadata": {},
   "outputs": [],
   "source": [
    "from openai import OpenAI\n",
    "import os\n",
    "\n",
    "from dotenv import load_dotenv, find_dotenv\n",
    "_ = load_dotenv(find_dotenv())\n",
    "\n",
    "client = OpenAI(api_key=os.getenv('OPENAI_API_KEY'))"
   ]
  },
  {
   "cell_type": "markdown",
   "metadata": {},
   "source": [
    "# Text Completions\n",
    "\n",
    "Text most likely to complete a prompt. Response is non-deterministic (inherently random)."
   ]
  },
  {
   "cell_type": "code",
   "execution_count": 32,
   "metadata": {},
   "outputs": [
    {
     "name": "stdout",
     "output_type": "stream",
     "text": [
      "\n",
      "\n",
      "A plane is an aircraft that is typically powered by jet engines or propellers. It has wings and is designed to transport passengers and/or cargo through the air. Planes have become an essential mode of transport in modern times, used for various purposes such as travel, business, and transporting goods. Planes symbolize speed, efficiency, and the ability to reach faraway destinations.\n"
     ]
    }
   ],
   "source": [
    "prompt=\"\"\"Replace car with plane and adjust phrase:\n",
    "A car is a vehicle that is typically powered by an internal combustion engine or an electric motor. It has four wheels, and is designed to carry passengers and/or cargo on roads or highways. Cars have become a ubiquitous part of modern society, and are used for a wide variety of purposes, such as commuting, travel, and transportation of goods. Cars are often associated with freedom, independence, and mobility.\"\"\"\n",
    "\n",
    "response = client.completions.create(\n",
    "  model=\"gpt-3.5-turbo-instruct\",\n",
    "  prompt=prompt,\n",
    "  max_tokens=100\n",
    ")\n",
    "\n",
    "print(response.choices[0].text)"
   ]
  },
  {
   "cell_type": "markdown",
   "metadata": {},
   "source": [
    "## Controlling response randomness\n",
    "\n",
    "The ```temperature``` parameter imposes control on determinism. Ranges from 0 (highly deterministic) to 2 (very random)."
   ]
  },
  {
   "cell_type": "code",
   "execution_count": 33,
   "metadata": {},
   "outputs": [
    {
     "name": "stdout",
     "output_type": "stream",
     "text": [
      "\n",
      "\n",
      "- Investment involves committing money or capital to an enterprise in order to obtain added income or profit.\n",
      "- Careful analysis, risk assessment, and diversification are important for making successful investments that can build wealth and achieve financial security.\n"
     ]
    }
   ],
   "source": [
    "prompt=\"\"\"Summarize the following text into two concise bullet points:\n",
    "Investment refers to the act of committing money or capital to an enterprise with the expectation of obtaining an added income or profit in return. There are a variety of investment options available, including stocks, bonds, mutual funds, real estate, precious metals, and currencies. Making an investment decision requires careful analysis, assessment of risk, and evaluation of potential rewards. Good investments have the ability to produce high returns over the long term while minimizing risk. Diversification of investment portfolios reduces risk exposure. Investment can be a valuable tool for building wealth, generating income, and achieving financial security. It is important to be diligent and informed when investing to avoid losses.\"\"\"\n",
    "\n",
    "response = client.completions.create(\n",
    "  model=\"gpt-3.5-turbo-instruct\",\n",
    "  prompt=prompt,\n",
    "  max_tokens=400,\n",
    "  temperature=0\n",
    ")\n",
    "\n",
    "print(response.choices[0].text)"
   ]
  },
  {
   "cell_type": "markdown",
   "metadata": {},
   "source": [
    "## Content transformation\n",
    "\n",
    "Changing text based on an instruction\n",
    "- Find and replace\n",
    "- Summarization\n",
    "- Copyediting"
   ]
  },
  {
   "cell_type": "code",
   "execution_count": 34,
   "metadata": {},
   "outputs": [
    {
     "name": "stdout",
     "output_type": "stream",
     "text": [
      "\n",
      "Maarten is a Senior Content Developer at DataCamp. His favorite programming language\n"
     ]
    }
   ],
   "source": [
    "prompt = \"\"\"\n",
    "Update name to Maarten, pronouns to he/him, and job title to Senior Content Developer:\n",
    "Joanne is a Content Developer at DataCamp. Her favorite programming language is R,\n",
    "which she uses for her statistical analyses.\n",
    "\"\"\"\n",
    "\n",
    "response = client.completions.create(\n",
    "  model=\"gpt-3.5-turbo-instruct\",\n",
    "  prompt=prompt\n",
    ")\n",
    "\n",
    "print(response.choices[0].text)"
   ]
  },
  {
   "cell_type": "markdown",
   "metadata": {},
   "source": [
    "## Content generation"
   ]
  },
  {
   "cell_type": "code",
   "execution_count": 35,
   "metadata": {},
   "outputs": [
    {
     "name": "stdout",
     "output_type": "stream",
     "text": [
      "\n",
      "\n",
      "\"Indulge in flavor, savor each bite, at our restaurant\n",
      "23\n"
     ]
    }
   ],
   "source": [
    "response = client.completions.create(\n",
    "  model=\"gpt-3.5-turbo-instruct\",\n",
    "  prompt=\"Create a slogan for a new restaurant\",\n",
    ")\n",
    "\n",
    "print(response.choices[0].text)\n",
    "print(response.usage.total_tokens)"
   ]
  },
  {
   "cell_type": "markdown",
   "metadata": {},
   "source": [
    "## Controlling response length\n",
    "\n",
    "Using ```max_tokens``` parameter"
   ]
  },
  {
   "cell_type": "code",
   "execution_count": 36,
   "metadata": {},
   "outputs": [
    {
     "name": "stdout",
     "output_type": "stream",
     "text": [
      "\n",
      "\n",
      "\"Indulge in flavor, gather with friends, welcome to the taste sensation!\"\n",
      "25\n"
     ]
    }
   ],
   "source": [
    "response = client.completions.create(\n",
    "  model=\"gpt-3.5-turbo-instruct\",\n",
    "  prompt=\"Create a slogan for a new restaurant\",\n",
    "  max_tokens=100\n",
    ")\n",
    "\n",
    "print(response.choices[0].text)\n",
    "print(response.usage.total_tokens)"
   ]
  },
  {
   "cell_type": "markdown",
   "metadata": {},
   "source": [
    "# Clasification tasks\n",
    "\n",
    "Task that involves assigning a label to information:\n",
    "- Identifying the language from text\n",
    "- Categorization\n",
    "- Classify sentiment"
   ]
  },
  {
   "cell_type": "markdown",
   "metadata": {},
   "source": [
    "### Categorizing animals"
   ]
  },
  {
   "cell_type": "code",
   "execution_count": 37,
   "metadata": {},
   "outputs": [
    {
     "name": "stdout",
     "output_type": "stream",
     "text": [
      "\n",
      "\n",
      "1. Mammals: zebra, blue whale, polar bear, dog\n",
      "2. Reptiles: crocodile\n",
      "3. Fish: salmon\n"
     ]
    }
   ],
   "source": [
    "response = client.completions.create(\n",
    "  model=\"gpt-3.5-turbo-instruct\",\n",
    "  prompt=\"Classify the following animals into categories: zebra, crocodile, blue whale, polar bear, salmon, dog.\",\n",
    "  max_tokens=50\n",
    ")\n",
    "\n",
    "print(response.choices[0].text)"
   ]
  },
  {
   "cell_type": "markdown",
   "metadata": {},
   "source": [
    "### Specifying groups"
   ]
  },
  {
   "cell_type": "code",
   "execution_count": 38,
   "metadata": {},
   "outputs": [
    {
     "name": "stdout",
     "output_type": "stream",
     "text": [
      "\n",
      "\n",
      "Animals with fur: Zebra, polar bear, dog\n",
      "Animals without fur: Crocodile, dolphin, salmon\n"
     ]
    }
   ],
   "source": [
    "response = client.completions.create(\n",
    "  model=\"gpt-3.5-turbo-instruct\",\n",
    "  prompt=\"Classify the following animals into animals with fur and without: zebra, crocodile, dolphin, polar bear, salmon, dog.\",\n",
    "  max_tokens=50\n",
    ")\n",
    "\n",
    "print(response.choices[0].text) "
   ]
  },
  {
   "cell_type": "markdown",
   "metadata": {},
   "source": [
    "### Classifying sentiment"
   ]
  },
  {
   "cell_type": "code",
   "execution_count": 39,
   "metadata": {},
   "outputs": [
    {
     "name": "stdout",
     "output_type": "stream",
     "text": [
      "1. Negative\n",
      "2. Positive\n",
      "3. Neutral \n",
      "4. Mixed (negative towards the food delay, positive towards the drinks)\n"
     ]
    }
   ],
   "source": [
    "prompt = \"\"\"Classify sentiment in the following statements:\n",
    "1. The service was very slow\n",
    "2. The steak was awfully tasty!\n",
    "3. Meal was decent, but I've had better.\n",
    "4. My food was delayed, but drinks were good.\n",
    "\"\"\"\n",
    "\n",
    "response = client.completions.create(\n",
    "  model=\"gpt-3.5-turbo-instruct\",\n",
    "  prompt=prompt,\n",
    "  max_tokens=50\n",
    ")\n",
    "\n",
    "print(response.choices[0].text)"
   ]
  },
  {
   "cell_type": "markdown",
   "metadata": {},
   "source": [
    "## Zero-shot vs. one-shot vs. few-shot prompting\n",
    "- Zero-shot prompting: no examples provided\n",
    "\n",
    "In-context learning:\n",
    "- One-shot prompting: one example provided\n",
    "- Few-shot prompting: a handful of examples provided"
   ]
  },
  {
   "cell_type": "markdown",
   "metadata": {},
   "source": [
    "### One-shot prompting"
   ]
  },
  {
   "cell_type": "code",
   "execution_count": 40,
   "metadata": {},
   "outputs": [
    {
     "name": "stdout",
     "output_type": "stream",
     "text": [
      "Cautious\n"
     ]
    }
   ],
   "source": [
    "prompt = \"\"\"Classify sentiment in the following statements:\n",
    "The service was very slow // Disgruntled\n",
    "Meal was decent, but I've had better. //\n",
    "\"\"\"\n",
    "\n",
    "response = client.completions.create(\n",
    "  model=\"gpt-3.5-turbo-instruct\",\n",
    "  prompt=prompt\n",
    ")\n",
    "\n",
    "print(response.choices[0].text)"
   ]
  },
  {
   "cell_type": "markdown",
   "metadata": {},
   "source": [
    "### Few-shot prompting"
   ]
  },
  {
   "cell_type": "code",
   "execution_count": 41,
   "metadata": {},
   "outputs": [
    {
     "name": "stdout",
     "output_type": "stream",
     "text": [
      "Neutral\n"
     ]
    }
   ],
   "source": [
    "prompt = \"\"\"Classify sentiment in the following statements:\n",
    "The service was very slow // Disgruntled\n",
    "The steak was awfully tasty! // Delighted\n",
    "Good experience overall. // Satisfied\n",
    "Meal was decent, but I've had better. //\n",
    "\"\"\"\n",
    "\n",
    "response = client.completions.create(\n",
    "  model=\"gpt-3.5-turbo-instruct\",\n",
    "  prompt=prompt\n",
    ")\n",
    "\n",
    "print(response.choices[0].text)"
   ]
  },
  {
   "cell_type": "markdown",
   "metadata": {},
   "source": [
    "# Chat completions"
   ]
  },
  {
   "cell_type": "code",
   "execution_count": 42,
   "metadata": {},
   "outputs": [
    {
     "name": "stdout",
     "output_type": "stream",
     "text": [
      "Mutable objects can be modified or changed after they are created, while immutable objects cannot be modified once they are created. In other words, mutable objects allow changes to their internal state, whereas immutable objects remain constant.\n"
     ]
    }
   ],
   "source": [
    "response = client.chat.completions.create(\n",
    "  model=\"gpt-3.5-turbo\",\n",
    "  messages=[{\"role\": \"system\",\n",
    "  \"content\": \"You are a data science tutor who speaks concisely.\"},\n",
    "  {\"role\": \"user\",\n",
    "  \"content\": \"What is the difference between mutable and immutable objects?\"}]\n",
    ")\n",
    "\n",
    "print(response.choices[0].message.content)"
   ]
  },
  {
   "cell_type": "markdown",
   "metadata": {},
   "source": [
    "# Multi-turn chat completions with ChatGPT"
   ]
  },
  {
   "cell_type": "markdown",
   "metadata": {},
   "source": [
    "## Chat completions for single-turn tasks"
   ]
  },
  {
   "cell_type": "code",
   "execution_count": 43,
   "metadata": {},
   "outputs": [
    {
     "name": "stdout",
     "output_type": "stream",
     "text": [
      "Mutable objects can be modified after they are created, while immutable objects cannot. When an immutable object is modified, a new object is created with the updated value, whereas with mutable objects, the changes can be made directly to the object itself.\n"
     ]
    }
   ],
   "source": [
    "response = client.chat.completions.create(\n",
    "model=\"gpt-3.5-turbo\",\n",
    "messages=[\n",
    "  {\"role\": \"system\",\"content\": \"You are a data science tutor who speaks concisely.\"},\n",
    "  {\"role\": \"user\",\"content\": \"How do you define a Python list?\"},\n",
    "  {\"role\": \"assistant\", \"content\": \"Lists are defined by enclosing a comma-separated sequence of objects inside square brackets [ ].\"},\n",
    "  {\"role\": \"user\", \"content\": \"What is the difference between mutable and immutable objects?\"}]\n",
    ")\n",
    "\n",
    "print(response.choices[0].message.content)"
   ]
  },
  {
   "cell_type": "markdown",
   "metadata": {},
   "source": [
    "## Building a conversation"
   ]
  },
  {
   "cell_type": "code",
   "execution_count": 44,
   "metadata": {},
   "outputs": [
    {
     "name": "stdout",
     "output_type": "stream",
     "text": [
      "User:  Why is Python so popular?\n",
      "Assistant:  Python is popular for several reasons:\n",
      "\n",
      "1. Simplicity: Python has an easy-to-read syntax that emphasizes readability, making it particularly beginner-friendly. This simplicity allows developers to write code with fewer lines, leading to faster development.\n",
      "\n",
      "2. Versatility: Python is a versatile programming language that can be used for a wide range of applications, ranging from web development and data analysis to artificial intelligence and robotics. Its extensive library ecosystem (such as NumPy, Pandas, and TensorFlow) enables developers to perform complex tasks efficiently.\n",
      "\n",
      "3. Community and Documentation: Python has one of the largest and most active developer communities. This means there is a wealth of resources, tutorials, and documentation available online, making it easy for beginners to learn and for experts to collaborate.\n",
      "\n",
      "4. Integration: Python can easily integrate with other languages such as C, C++, Java, and R, allowing developers to leverage existing code and libraries.\n",
      "\n",
      "5. Industry Adoption: Many leading organizations, including Google, Instagram, Dropbox, and NASA, have adopted Python for their software development needs. This industry support has contributed to Python's popularity and widespread usage.\n",
      "\n",
      "Overall, Python's simplicity, versatility, supportive community, and strong industry adoption have propelled its popularity. \n",
      "\n",
      "User:  Summarize this in one sentence.\n",
      "Assistant:  Python is popular due to its simplicity, versatility, strong community support, and industry adoption. \n",
      "\n"
     ]
    }
   ],
   "source": [
    "messages = [{\"role\": \"system\", \"content\": \"You are a data science tutor who provides short, simple explanations.\"}]\n",
    "\n",
    "user_qs = [\"Why is Python so popular?\", \"Summarize this in one sentence.\"]\n",
    "\n",
    "for q in user_qs:\n",
    "  print(\"User: \", q)\n",
    "  user_dict = {\"role\": \"user\", \"content\": q}\n",
    "  messages.append(user_dict)\n",
    "  \n",
    "  response = client.chat.completions.create(\n",
    "    model=\"gpt-3.5-turbo\",\n",
    "    messages=messages\n",
    "  )\n",
    "\n",
    "  assistant_dict = {\"role\": \"assistant\", \"content\": response.choices[0].message.content}\n",
    "  messages.append(assistant_dict)\n",
    "  print(\"Assistant: \", response.choices[0].message.content, \"\\n\")"
   ]
  }
 ],
 "metadata": {
  "kernelspec": {
   "display_name": "working-with-openai-api-ccThAi0B",
   "language": "python",
   "name": "python3"
  },
  "language_info": {
   "codemirror_mode": {
    "name": "ipython",
    "version": 3
   },
   "file_extension": ".py",
   "mimetype": "text/x-python",
   "name": "python",
   "nbconvert_exporter": "python",
   "pygments_lexer": "ipython3",
   "version": "3.11.3"
  }
 },
 "nbformat": 4,
 "nbformat_minor": 2
}
