{
 "cells": [
  {
   "cell_type": "code",
   "execution_count": 1,
   "metadata": {},
   "outputs": [],
   "source": [
    "from openai import OpenAI\n",
    "import os\n",
    "\n",
    "from dotenv import load_dotenv, find_dotenv\n",
    "_ = load_dotenv(find_dotenv())\n",
    "\n",
    "client = OpenAI(api_key=os.getenv('OPENAI_API_KEY'))"
   ]
  },
  {
   "cell_type": "code",
   "execution_count": 3,
   "metadata": {},
   "outputs": [],
   "source": [
    "def get_response(system_prompt, user_prompt):\n",
    "  # Assign the role and content for each message\n",
    "  messages = [{\"role\": \"system\", \"content\": system_prompt},\n",
    "      \t\t  {\"role\": \"user\", \"content\": user_prompt}]  \n",
    "  response = client.chat.completions.create(\n",
    "      model=\"gpt-3.5-turbo\", messages= messages, temperature=0)\n",
    "  \n",
    "  return response.choices[0].message.content"
   ]
  },
  {
   "cell_type": "markdown",
   "metadata": {},
   "source": [
    "# Prompt engineering for chatbot development"
   ]
  },
  {
   "cell_type": "code",
   "execution_count": 4,
   "metadata": {},
   "outputs": [
    {
     "name": "stdout",
     "output_type": "stream",
     "text": [
      "Prompt engineering is the process of designing and crafting effective prompts or instructions for a language model or AI system. It involves carefully constructing the input given to the model to elicit the desired output or response. The goal of prompt engineering is to provide clear and specific instructions to guide the model's generation process and ensure it produces accurate and relevant results. By carefully designing prompts, data scientists can influence the behavior and output of the model, making it more useful and reliable for various tasks and applications.\n"
     ]
    }
   ],
   "source": [
    "system_prompt = \"You are an expert data scientist that explains complex concepts in simple terms.\"\n",
    "user_prompt =  \"What is prompt engineering?\"\n",
    "\n",
    "response = get_response(system_prompt, user_prompt)\n",
    "print(response)"
   ]
  },
  {
   "cell_type": "markdown",
   "metadata": {},
   "source": [
    "## Customer support chatbot"
   ]
  },
  {
   "cell_type": "code",
   "execution_count": 5,
   "metadata": {},
   "outputs": [
    {
     "name": "stdout",
     "output_type": "stream",
     "text": [
      "I'm sorry to hear that you're having trouble connecting your headphones to your device. Let's try a few troubleshooting steps to resolve the issue:\n",
      "\n",
      "1. Make sure your headphones are in pairing mode. Refer to the user manual for instructions on how to do this. Usually, you need to press and hold a specific button or combination of buttons until the LED indicator starts flashing.\n",
      "\n",
      "2. Ensure that Bluetooth is enabled on your device. Go to the settings menu and check if Bluetooth is turned on. If it's already on, try turning it off and then back on again.\n",
      "\n",
      "3. Restart both your headphones and your device. Sometimes a simple restart can fix connectivity issues.\n",
      "\n",
      "4. Check if your headphones are already connected to another device. If they are, disconnect them from that device and try connecting them to your desired device again.\n",
      "\n",
      "5. Try connecting your headphones to a different device. This will help determine if the issue is with your headphones or your original device.\n",
      "\n",
      "6. Update the firmware of your headphones. Visit the manufacturer's website or contact their support for instructions on how to update the firmware.\n",
      "\n",
      "If none of these steps work, please provide me with the make and model of your headphones, as well as the device you're trying to connect them to. This will help me assist you further.\n"
     ]
    }
   ],
   "source": [
    "chatbot_purpose = \"You are customer support chatbot for an e-commerce company specializing in electronics. You will assist users with inquiries, order tracking, and troubleshooting common issues.\"\n",
    "audience_guidelines = \"The target audience as tech-savvy individuals interested in purchasing electronic gadgets.\"\n",
    "tone_guidelines = \"Use a professional and user-friendly tone while interacting with customers.\"\n",
    "\n",
    "system_prompt = chatbot_purpose + audience_guidelines + tone_guidelines\n",
    "response = get_response(system_prompt, \"My new headphones aren't connecting to my device\")\n",
    "print(response)"
   ]
  },
  {
   "cell_type": "markdown",
   "metadata": {},
   "source": [
    "## Behavioral control of a customer support chatbot"
   ]
  },
  {
   "cell_type": "code",
   "execution_count": 6,
   "metadata": {},
   "outputs": [
    {
     "name": "stdout",
     "output_type": "stream",
     "text": [
      "Response 1:  I'm sorry to hear about your issue with your laptop screen flickering. There are a few troubleshooting steps you can try to resolve this problem:\n",
      "\n",
      "1. Restart your laptop: Sometimes a simple restart can fix minor software glitches that may be causing the screen to flicker.\n",
      "\n",
      "2. Update your graphics driver: Outdated or incompatible graphics drivers can cause screen flickering. Visit the manufacturer's website or use a driver update software to download and install the latest graphics driver for your laptop.\n",
      "\n",
      "3. Adjust screen refresh rate: Right-click on your desktop, select Display settings, and then click on Advanced display settings. From there, you can adjust the screen refresh rate to a lower value and see if it helps reduce the flickering.\n",
      "\n",
      "4. Check for loose connections: Ensure that the video cable connecting your laptop to the external display is securely plugged in. If you're using an external monitor, try connecting it to a different port or using a different cable.\n",
      "\n",
      "5. Scan for malware: Malware infections can sometimes cause screen flickering. Run a full system scan using your antivirus software to check for any potential threats.\n",
      "\n",
      "If none of these steps resolve the issue, it's recommended to contact the manufacturer's customer support or take your laptop to a professional technician for further assistance.\n",
      "Response 2:  Of course! I'd be happy to help you track your recent order. Could you please provide me with your order number?\n"
     ]
    }
   ],
   "source": [
    "chatbot_purpose = \"You are customer support chatbot for an e-commerce company specializing in electronics. You will assist users with inquiries, order tracking, and troubleshooting common issues.\"\n",
    "audience_guidelines = \"The target audience as tech-savvy individuals interested in purchasing electronic gadgets.\"\n",
    "tone_guidelines = \"Use a professional and user-friendly tone while interacting with customers.\"\n",
    "\n",
    "base_system_prompt = chatbot_purpose + audience_guidelines + tone_guidelines\n",
    "\n",
    "order_number_condition = \"Ask the user for their order number if they submitted a query about an order without specifying an order number.\"\n",
    "technical_issue_condition = \"start the response with ```I'm sorry to hear about your issue with ...``` if the user is reporting a technical issue\"\n",
    "refined_system_prompt = base_system_prompt + order_number_condition + technical_issue_condition\n",
    "\n",
    "response_1 = get_response(refined_system_prompt, \"My laptop screen is flickering. What should I do?\")\n",
    "response_2 = get_response(refined_system_prompt, \"Can you help me track my recent order?\")\n",
    "\n",
    "print(\"Response 1: \", response_1)\n",
    "print(\"Response 2: \", response_2)"
   ]
  },
  {
   "cell_type": "markdown",
   "metadata": {},
   "source": [
    "# Role-playing prompts for chatbots"
   ]
  },
  {
   "cell_type": "markdown",
   "metadata": {},
   "source": [
    "## Learning advisor chatbot"
   ]
  },
  {
   "cell_type": "code",
   "execution_count": 8,
   "metadata": {},
   "outputs": [
    {
     "name": "stdout",
     "output_type": "stream",
     "text": [
      "Of course! Here are a few books that I would recommend for beginners with a Java software development background who are interested in learning about software architecture:\n",
      "\n",
      "1. \"Software Architecture in Practice\" by Len Bass, Paul Clements, and Rick Kazman: This book provides a comprehensive introduction to software architecture concepts and practices. It covers various architectural styles, design principles, and techniques for creating effective software architectures.\n",
      "\n",
      "2. \"Clean Architecture: A Craftsman's Guide to Software Structure and Design\" by Robert C. Martin: This book focuses on the principles and practices of clean architecture, which emphasizes separation of concerns and maintainability. It provides practical examples and case studies to help you understand how to design software systems with clean architecture principles.\n",
      "\n",
      "3. \"Designing Data-Intensive Applications\" by Martin Kleppmann: While not solely focused on software architecture, this book explores the design principles and trade-offs involved in building large-scale, data-intensive applications. It covers topics such as data modeling, distributed systems, and reliability, which are essential considerations in software architecture.\n",
      "\n",
      "4. \"Patterns of Enterprise Application Architecture\" by Martin Fowler: This book introduces a collection of architectural patterns commonly used in enterprise software development. It provides insights into how to design scalable, maintainable, and robust software systems using these patterns.\n",
      "\n",
      "These books should provide you with a solid foundation in software architecture concepts and practices. As you progress, you can explore more advanced books and resources to further enhance your knowledge and skills.\n"
     ]
    }
   ],
   "source": [
    "system_prompt = \"You are a learning advisor who can recommend beginner and advanced textbooks based on the user background.\"\n",
    "\n",
    "#user_prompt = \"Hello there! I'm a beginner with a marketing background, and I'm really interested in learning about Python, data analytics, and machine learning. Can you recommend some books?\"\n",
    "user_prompt = \"Hello there! I'm a beginner with a Java software development background, and I'm really interested in learning about software architecture. Can you recommend some books?\"\n",
    "\n",
    "response = get_response(system_prompt, user_prompt)\n",
    "print(response)"
   ]
  },
  {
   "cell_type": "markdown",
   "metadata": {},
   "source": [
    "## Adding guidelines for the learning advisor chatbot"
   ]
  },
  {
   "cell_type": "code",
   "execution_count": 12,
   "metadata": {},
   "outputs": [
    {
     "name": "stdout",
     "output_type": "stream",
     "text": [
      "Hello! Thank you for providing your background. To start learning about Software Architecture, I recommend the following textbooks:\n",
      "\n",
      "1. \"Software Architecture in Practice\" by Len Bass, Paul Clements, and Rick Kazman: This book is a comprehensive guide to software architecture, covering both theoretical concepts and practical examples. It provides a solid foundation for understanding the principles and best practices of software architecture.\n",
      "\n",
      "2. \"Clean Architecture: A Craftsman's Guide to Software Structure and Design\" by Robert C. Martin: This book focuses on the principles and patterns of clean architecture, emphasizing the importance of separation of concerns and maintainability. It provides practical examples and case studies to help you apply these concepts in real-world scenarios.\n",
      "\n",
      "3. \"Designing Distributed Systems: Patterns and Paradigms for Scalable, Reliable Services\" by Brendan Burns: This book is specifically focused on designing distributed systems, which is an important aspect of software architecture in modern applications. It covers various patterns and paradigms for building scalable and reliable services, with a focus on cloud-native architectures.\n",
      "\n",
      "These textbooks will provide you with a solid foundation in software architecture and help you understand the principles and best practices involved. Start with the first book and gradually move on to the others as you gain more experience and confidence in the subject. Happy learning!\n"
     ]
    }
   ],
   "source": [
    "base_system_prompt = \"Act as a learning advisor who receives queries from users mentioning their background, experience, and goals, and accordingly provides a response that recommends a tailored learning path of textbooks, including both beginner-level and more advanced options.\"\n",
    "\n",
    "behavior_guidelines = \"Request user background, experience, and goals, if they are missing.\"\n",
    "response_guidelines = \"Recommend no more than three textbooks.\"\n",
    "\n",
    "system_prompt = base_system_prompt + behavior_guidelines + response_guidelines\n",
    "#user_prompt = \"Hey, I'm looking for courses on Software Architecture. What do you recommend?\"\n",
    "user_prompt = \"Hello there! I'm a beginner with a Java software development background, I'm looking for courses on Software Architecture. What do you recommend?\"\n",
    "\n",
    "response = get_response(system_prompt, user_prompt)\n",
    "print(response)"
   ]
  },
  {
   "cell_type": "markdown",
   "metadata": {},
   "source": [
    "# Incorporating external context in chatbot conversations"
   ]
  },
  {
   "cell_type": "markdown",
   "metadata": {},
   "source": [
    "## Providing context through sample conversations"
   ]
  },
  {
   "cell_type": "code",
   "execution_count": 13,
   "metadata": {},
   "outputs": [
    {
     "name": "stdout",
     "output_type": "stream",
     "text": [
      "Absolutely! We understand the importance of safely delivering furniture items to enhance your living space. Our delivery service covers a wide range of furniture, including sofas, chairs, tables, beds, and more. Just let us know the details, and we'll take care of the delivery for you!\n"
     ]
    }
   ],
   "source": [
    "system_prompt = \"You are a customer service chatbot for a delivery service that responds in a gentle way\"\n",
    "\n",
    "context_question = \"What types of items can be delivered using MyPersonalDelivery?\"\n",
    "context_answer = \"We deliver everything from everyday essentials such as groceries, medications, and documents to larger items like electronics, clothing, and furniture. However, please note that we currently do not offer delivery for hazardous materials or extremely fragile items requiring special handling.\"\n",
    "\n",
    "response = client.chat.completions.create(\n",
    "  model=\"gpt-3.5-turbo\",\n",
    "  messages=[{\"role\": \"system\", \"content\": system_prompt},\n",
    "            {\"role\": \"user\", \"content\": context_question},\n",
    "            {\"role\": \"assistant\", \"content\": context_answer },\n",
    "            {\"role\": \"user\", \"content\": \"Do you deliver furniture?\"}])\n",
    "response = response.choices[0].message.content\n",
    "print(response)"
   ]
  },
  {
   "cell_type": "markdown",
   "metadata": {},
   "source": [
    "## Providing context through system prompt"
   ]
  },
  {
   "cell_type": "code",
   "execution_count": 14,
   "metadata": {},
   "outputs": [
    {
     "name": "stdout",
     "output_type": "stream",
     "text": [
      "Thank you for your question! MyPersonalDelivery offers a range of benefits to make your delivery experience convenient and hassle-free. Here are some key benefits:\n",
      "\n",
      "1. **Flexible Delivery Options**: We provide flexible delivery options to suit your schedule. You can choose the date and time slot that works best for you.\n",
      "\n",
      "2. **Real-Time Tracking**: With our advanced tracking system, you can easily track your package in real-time. You will always know the status and location of your delivery.\n",
      "\n",
      "3. **Secure and Reliable**: We prioritize the safety and security of your packages. Our delivery professionals are trained to handle your items with care, ensuring they reach you in perfect condition.\n",
      "\n",
      "4. **Customer Support**: Our dedicated customer support team is available to assist you with any queries or concerns you may have. We are here to provide you with a seamless delivery experience.\n",
      "\n",
      "5. **Competitive Pricing**: We offer competitive pricing for our delivery services. You can enjoy the convenience of personalized delivery without breaking the bank.\n",
      "\n",
      "For more detailed information about our services, please refer to the following service description:\n",
      "\n",
      "```{service_description}```\n",
      "\n",
      "If you have any further questions, feel free to ask!\n"
     ]
    }
   ],
   "source": [
    "service_description = \"\"\"\n",
    "Welcome to MyPersonalDelivery, your trusted and versatile delivery service partner. At MyPersonalDelivery, we are committed to providing you with a seamless and efficient delivery experience for a wide range of items. Whether you need groceries, documents, electronics, or even furniture, we've got you covered.\n",
    "\n",
    "Our Services:\n",
    "We offer a diverse range of delivery services to cater to your unique needs. From same-day delivery for urgent items to scheduled deliveries that fit your convenience, we have the flexibility to meet your busy lifestyle. Our real-time tracking system ensures that you can monitor the status of your delivery every step of the way.\n",
    "\n",
    "What We Deliver:\n",
    "Our service is designed to handle various items, including everyday essentials such as groceries and medications. Need to send important documents? No problem, we'll ensure they reach their destination securely. We also specialize in transporting larger items like electronics, clothing, and even furniture. However, please note that we currently do not offer delivery for hazardous materials or items that are extremely fragile and require special handling.\n",
    "\n",
    "Safety and Care:\n",
    "Your items' safety is our top priority. We take pride in our secure handling practices to ensure that your deliveries arrive intact. Our contactless delivery option minimizes physical contact, adding an extra layer of safety during these times. We understand that each item is valuable, and you can trust us to treat your belongings with the utmost care.\n",
    "\n",
    "Why Choose MyPersonalDelivery:\n",
    "- Wide variety of items delivered\n",
    "- Flexible delivery options\n",
    "- Real-time tracking for peace of mind\n",
    "- Secure handling and contactless delivery\n",
    "- Reliable service with a commitment to excellence\n",
    "\n",
    "Whether you need a small package delivered across town or a larger item transported across the city, you can rely on MyPersonalDelivery to provide a reliable, secure, and efficient delivery solution. Your satisfaction is our driving force, and we look forward to serving you with our dedicated and customer-centric approach.\n",
    "\n",
    "Feel free to ask any questions you may have about our services, and we'll be more than happy to assist you.\n",
    "\"\"\"\n",
    "\n",
    "system_prompt = \"\"\"You are a  customer service chatbot for a delivery service that responds in a gentle way and point to a service description that has been delimited by triple backticks: ```{service_description}```\"\"\"\n",
    "\n",
    "user_prompt = \"What benefits does MyPersonalDelivery offer?\"\n",
    "\n",
    "response = get_response(system_prompt, user_prompt)\n",
    "\n",
    "print(response)"
   ]
  }
 ],
 "metadata": {
  "kernelspec": {
   "display_name": "chatgpt-prompt-enginieering-for-developers",
   "language": "python",
   "name": "python3"
  },
  "language_info": {
   "codemirror_mode": {
    "name": "ipython",
    "version": 3
   },
   "file_extension": ".py",
   "mimetype": "text/x-python",
   "name": "python",
   "nbconvert_exporter": "python",
   "pygments_lexer": "ipython3",
   "version": "3.12.1"
  }
 },
 "nbformat": 4,
 "nbformat_minor": 2
}
