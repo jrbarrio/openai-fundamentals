{
 "cells": [
  {
   "cell_type": "markdown",
   "metadata": {},
   "source": [
    "# Introduction to prompt engineering"
   ]
  },
  {
   "cell_type": "code",
   "execution_count": 9,
   "metadata": {},
   "outputs": [],
   "source": [
    "from openai import OpenAI\n",
    "import os\n",
    "\n",
    "from dotenv import load_dotenv, find_dotenv\n",
    "_ = load_dotenv(find_dotenv())\n",
    "\n",
    "client = OpenAI(api_key=os.getenv('OPENAI_API_KEY'))"
   ]
  },
  {
   "cell_type": "markdown",
   "metadata": {},
   "source": [
    "## Creating get_response() function"
   ]
  },
  {
   "cell_type": "code",
   "execution_count": 10,
   "metadata": {},
   "outputs": [],
   "source": [
    "def get_response(prompt):\n",
    "  response = client.chat.completions.create(\n",
    "    model=\"gpt-3.5-turbo\",\n",
    "    messages=[{\"role\": \"user\", \"content\": prompt}], \n",
    "    temperature = 0)\n",
    "  return response.choices[0].message.content"
   ]
  },
  {
   "cell_type": "markdown",
   "metadata": {},
   "source": [
    "## Prompt improvement"
   ]
  },
  {
   "cell_type": "code",
   "execution_count": 11,
   "metadata": {},
   "outputs": [
    {
     "name": "stdout",
     "output_type": "stream",
     "text": [
      "Prompt engineering is like giving instructions to a computer or a robot. Just like when you tell your friend how to play a game, you give them step-by-step directions. In prompt engineering, people write down these directions for computers to follow. It helps the computer understand what we want it to do and helps us get the answers or results we need. So, it's like teaching a computer how to do things by telling it what to do!\n"
     ]
    }
   ],
   "source": [
    "response = get_response(\"What is prompt engineering? Explain it in terms that can be understood by a 5-year-old\")\n",
    "\n",
    "print(response)"
   ]
  },
  {
   "cell_type": "markdown",
   "metadata": {},
   "source": [
    "# Key principles of prompt engineering"
   ]
  },
  {
   "cell_type": "markdown",
   "metadata": {},
   "source": [
    "## Crafting a well-structured prompt with delimiters and formatted strings"
   ]
  },
  {
   "cell_type": "code",
   "execution_count": 12,
   "metadata": {},
   "outputs": [
    {
     "name": "stdout",
     "output_type": "stream",
     "text": [
      "\n",
      " Original story: \n",
      " In a distant galaxy, there was a brave space explorer named Alex. Alex had spent years traveling through the cosmos, discovering new planets and meeting alien species. One fateful day, while exploring an uncharted asteroid belt, Alex stumbled upon a peculiar object that would change the course of their interstellar journey forever...\n",
      "\n",
      " Generated story: \n",
      " In sooth, 'twas a day of great import, when brave Alex, the space explorer, did venture forth into the vast expanse of the galaxy. With valorous heart and intrepid spirit, this noble soul traversed the celestial realms, uncovering hidden worlds and encountering beings from distant stars. \n",
      "\n",
      "But lo! Fate did conspire to weave a tapestry of destiny, for it was upon that fateful day, amidst an uncharted asteroid belt, that Alex chanced upon a most curious object. 'Twas a thing of mystery and wonder, whose very presence did portend a shift in the cosmic winds. With trembling hands, Alex reached out and grasped the artifact, unaware of the profound transformation it would soon bestow upon their interstellar odyssey.\n"
     ]
    }
   ],
   "source": [
    "story = \"In a distant galaxy, there was a brave space explorer named Alex. Alex had spent years traveling through the cosmos, discovering new planets and meeting alien species. One fateful day, while exploring an uncharted asteroid belt, Alex stumbled upon a peculiar object that would change the course of their interstellar journey forever...\"\n",
    "\n",
    "prompt = f\"\"\"Complete the given story delimited in triple backticks with only two paragraphs in the style of William Shakespeare: ```{story}```\"\"\"\n",
    "\n",
    "response = get_response(prompt)\n",
    "\n",
    "print(\"\\n Original story: \\n\", story)\n",
    "print(\"\\n Generated story: \\n\", response)"
   ]
  },
  {
   "cell_type": "markdown",
   "metadata": {},
   "source": [
    "# Structured outputs and conditional prompts"
   ]
  },
  {
   "cell_type": "markdown",
   "metadata": {},
   "source": [
    "## Generating a table"
   ]
  },
  {
   "cell_type": "code",
   "execution_count": 13,
   "metadata": {},
   "outputs": [
    {
     "name": "stdout",
     "output_type": "stream",
     "text": [
      "Title              | Author              | Year\n",
      "-------------------|---------------------|------\n",
      "Dune               | Frank Herbert       | 1965\n",
      "Neuromancer        | William Gibson      | 1984\n",
      "Foundation         | Isaac Asimov        | 1951\n",
      "Ender's Game       | Orson Scott Card    | 1985\n",
      "Snow Crash         | Neal Stephenson     | 1992\n",
      "Hyperion           | Dan Simmons         | 1989\n",
      "The Left Hand of Darkness | Ursula K. Le Guin | 1969\n",
      "1984               | George Orwell       | 1949\n",
      "Brave New World    | Aldous Huxley       | 1932\n",
      "The Hitchhiker's Guide to the Galaxy | Douglas Adams | 1979\n"
     ]
    }
   ],
   "source": [
    "prompt = \"Generates a table of 10 books, with columns for Title, Author, and Year, that you should read given that you are a sci-fi lover.\"\n",
    "\n",
    "response = get_response(prompt)\n",
    "\n",
    "print(response)"
   ]
  },
  {
   "cell_type": "markdown",
   "metadata": {},
   "source": [
    "## Customizing output formats"
   ]
  },
  {
   "cell_type": "code",
   "execution_count": 14,
   "metadata": {},
   "outputs": [
    {
     "name": "stdout",
     "output_type": "stream",
     "text": [
      "- Text: The sun was setting behind the mountains, casting a warm golden glow across the landscape. Birds were chirping happily, and a gentle breeze rustled the leaves of the trees. It was a perfect evening for a leisurely stroll in the park.\n",
      "- Language: English\n",
      "- Title: A Serene Evening in the Park\n"
     ]
    }
   ],
   "source": [
    "text = \"The sun was setting behind the mountains, casting a warm golden glow across the landscape. Birds were chirping happily, and a gentle breeze rustled the leaves of the trees. It was a perfect evening for a leisurely stroll in the park.\"\n",
    "instructions = \"You will be provided with a text delimited by triple backticks. Infer its language, then generate a suitable title for it. \"\n",
    "\n",
    "output_format = \"\"\"Use the following format for the output:\n",
    "         - Text: <the text>\n",
    "         - Language: <the text language>\n",
    "         - Title: <the generated title>\"\"\"\n",
    "\n",
    "prompt = instructions + output_format + f\"```{text}```\"\n",
    "response = get_response(prompt)\n",
    "print(response)"
   ]
  },
  {
   "cell_type": "markdown",
   "metadata": {},
   "source": [
    "## Using conditional prompts"
   ]
  },
  {
   "cell_type": "code",
   "execution_count": 15,
   "metadata": {},
   "outputs": [
    {
     "name": "stdout",
     "output_type": "stream",
     "text": [
      "- Text: The sun was setting behind the mountains, casting a warm golden glow across the landscape.\n",
      "- Language: English\n",
      "- N_sentences: 1\n",
      "- Title: N/A\n"
     ]
    }
   ],
   "source": [
    "text = \"The sun was setting behind the mountains, casting a warm golden glow across the landscape.\"\n",
    "instructions = \"Infer the language and the number of sentences of the given delimited text; then if the text contains more than one sentence, generate a suitable title for it, otherwise, write 'N/A' for the title.\"\n",
    "\n",
    "output_format = \"\"\"Use the following format for the output:\n",
    "        - Text: <text we want to title>\n",
    "        - Language: <the inferred language>\n",
    "        - N_sentences: <the number of sentences>\n",
    "        - Title: <the generated title>\"\"\"\n",
    "\n",
    "prompt = instructions + output_format + f\"```{text}```\"\n",
    "response = get_response(prompt)\n",
    "print(response)"
   ]
  }
 ],
 "metadata": {
  "kernelspec": {
   "display_name": "chatgpt-prompt-enginieering-for-developers",
   "language": "python",
   "name": "python3"
  },
  "language_info": {
   "codemirror_mode": {
    "name": "ipython",
    "version": 3
   },
   "file_extension": ".py",
   "mimetype": "text/x-python",
   "name": "python",
   "nbconvert_exporter": "python",
   "pygments_lexer": "ipython3",
   "version": "3.11.7"
  }
 },
 "nbformat": 4,
 "nbformat_minor": 2
}
