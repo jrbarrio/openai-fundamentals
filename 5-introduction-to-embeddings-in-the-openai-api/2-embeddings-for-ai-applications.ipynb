{
 "cells": [
  {
   "cell_type": "code",
   "execution_count": 1,
   "metadata": {},
   "outputs": [],
   "source": [
    "from openai import OpenAI\n",
    "import os\n",
    "from sklearn.manifold import TSNE \n",
    "import numpy as np\n",
    "import matplotlib.pyplot as plt \n",
    "from scipy.spatial import distance\n",
    "\n",
    "from dotenv import load_dotenv, find_dotenv\n",
    "_ = load_dotenv(find_dotenv())\n",
    "\n",
    "client = OpenAI(api_key=os.getenv('OPENAI_API_KEY'))"
   ]
  },
  {
   "cell_type": "markdown",
   "metadata": {},
   "source": [
    "# Embeddings for AI applications"
   ]
  },
  {
   "cell_type": "markdown",
   "metadata": {},
   "source": [
    "## Enriching embeddings"
   ]
  },
  {
   "cell_type": "code",
   "execution_count": 2,
   "metadata": {},
   "outputs": [],
   "source": [
    "products = [\n",
    "    {'title': 'Smartphone X1', 'short_description': 'The latest flagship smartphone with AI-powered features and 5G connectivity.', 'price': 799.99, 'category': 'Electronics', 'features': ['6.5-inch AMOLED display', 'Quad-camera system with 48MP main sensor', 'Face recognition and fingerprint sensor', 'Fast wireless charging']}, \n",
    "    {'title': 'Luxury Diamond Necklace', 'short_description': 'Elegant necklace featuring genuine diamonds, perfect for special occasions.', 'price': 1499.99, 'category': 'Beauty', 'features': ['18k white gold chain', '0.5 carat diamond pendant', 'Adjustable chain length', 'Gift box included']}, \n",
    "    {'title': 'RC Racing Car', 'short_description': 'High-speed remote-controlled racing car for adrenaline-packed fun.', 'price': 89.99, 'category': 'Toys', 'features': ['Top speed of 30 mph', 'Responsive remote control', 'Rechargeable battery', 'Durable construction']}, \n",
    "    {'title': 'Ultra HD 4K TV', 'short_description': 'Immerse yourself in stunning visuals with this 65-inch 4K TV.', 'price': 1299.99, 'category': 'Electronics', 'features': ['65-inch 4K UHD display', 'Dolby Vision and HDR10+ support', 'Smart TV with streaming apps', 'Voice remote included']}, \n",
    "    {'title': 'Glowing Skin Serum', 'short_description': 'Revitalize your skin with this nourishing serum for a radiant glow.', 'price': 39.99, 'category': 'Beauty', 'features': ['Hyaluronic acid and vitamin C', 'Hydrates and reduces fine lines', 'Suitable for all skin types', 'Cruelty-free']}, \n",
    "    {'title': 'LEGO Space Shuttle', 'short_description': 'Build your own space adventure with this LEGO space shuttle set.', 'price': 49.99, 'category': 'Toys', 'features': ['359 pieces for creative building', 'Astronaut minifigure included', 'Compatible with other LEGO sets', 'For ages 7+']}, \n",
    "    {'title': 'Wireless Noise-Canceling Headphones', 'short_description': 'Enjoy immersive audio and block out distractions with these headphones.', 'price': 199.99, 'category': 'Electronics', 'features': ['Active noise cancellation', 'Bluetooth 5.0 connectivity', 'Long-lasting battery life', 'Foldable design for portability']}, \n",
    "    {'title': 'Luxury Perfume Gift Set', 'short_description': 'Indulge in a collection of premium fragrances with this gift set.', 'price': 129.99, 'category': 'Beauty', 'features': ['Five unique scents', 'Elegant packaging', 'Perfect gift for fragrance enthusiasts', 'Variety of fragrance notes']}, \n",
    "    {'title': 'Remote-Controlled Drone', 'short_description': 'Take to the skies and capture stunning aerial footage with this drone.', 'price': 299.99, 'category': 'Electronics', 'features': ['4K camera with gimbal stabilization', 'GPS-assisted flight', 'Remote control with smartphone app', 'Return-to-home function']}, \n",
    "    {'title': 'Luxurious Spa Gift Basket', 'short_description': 'Pamper yourself or a loved one with this spa gift basket full of relaxation goodies.', 'price': 79.99, 'category': 'Beauty', 'features': ['Bath bombs, body lotion, and more', 'Aromatherapy candles', 'Reusable wicker basket', 'Great for self-care']}, \n",
    "    {'title': 'Robot Building Kit', 'short_description': 'Learn robotics and coding with this educational robot building kit.', 'price': 59.99, 'category': 'Toys', 'features': ['Build and program your own robot', 'STEM learning tool', 'Compatible with Scratch and Python', 'Ideal for young inventors']}, \n",
    "    {'title': 'High-Performance Gaming Laptop', 'short_description': 'Dominate the gaming world with this powerful gaming laptop.', 'price': 1499.99, 'category': 'Electronics', 'features': ['Intel Core i7 processor', 'NVIDIA RTX graphics', '144Hz refresh rate display', 'RGB backlit keyboard']}, \n",
    "    {'title': 'Natural Mineral Makeup Set', 'short_description': 'Enhance your beauty with this mineral makeup set for a flawless look.', 'price': 34.99, 'category': 'Beauty', 'features': ['Mineral foundation and eyeshadows', 'Non-comedogenic and paraben-free', 'Cruelty-free and vegan', 'Includes makeup brushes']}, \n",
    "    {'title': 'Interactive Robot Pet', 'short_description': 'Adopt your own robot pet that responds to your voice and touch.', 'price': 79.99, 'category': 'Toys', 'features': ['Realistic pet behaviors', 'Voice recognition and touch sensors', 'Teaches responsibility and empathy', 'Rechargeable battery']}, \n",
    "    {'title': 'Smart Thermostat', 'short_description': \"Control your home's temperature and save energy with this smart thermostat.\", 'price': 129.99, 'category': 'Electronics', 'features': ['Wi-Fi connectivity', 'Energy-saving features', 'Compatible with voice assistants', 'Easy installation']}, \n",
    "    {'title': 'Designer Makeup Brush Set', 'short_description': 'Upgrade your makeup routine with this premium designer brush set.', 'price': 59.99, 'category': 'Beauty', 'features': ['High-quality synthetic bristles', 'Chic designer brush handles', 'Complete set for all makeup needs', 'Includes stylish carrying case']}, \n",
    "    {'title': 'Remote-Controlled Dinosaur Toy', 'short_description': 'Roar into action with this remote-controlled dinosaur toy with lifelike movements.', 'price': 49.99, 'category': 'Toys', 'features': ['Realistic dinosaur sound effects', 'Walks and roars like a real dinosaur', 'Remote control included', 'Educational and entertaining']}, \n",
    "    {'title': 'Wireless Charging Dock', 'short_description': 'Charge your devices conveniently with this sleek wireless charging dock.', 'price': 39.99, 'category': 'Electronics', 'features': ['Qi wireless charging technology', 'Supports multiple devices', 'LED charging indicators', 'Compact and stylish design']}, \n",
    "    {'title': 'Luxury Skincare Set', 'short_description': 'Elevate your skincare routine with this luxurious skincare set.', 'price': 179.99, 'category': 'Beauty', 'features': ['Premium anti-aging ingredients', 'Hydrating and rejuvenating formulas', 'Complete skincare regimen', 'Elegant packaging']}\n",
    "]\n",
    "\n",
    "def create_embeddings(texts):\n",
    "  response = client.embeddings.create(\n",
    "    model=\"text-embedding-ada-002\",\n",
    "    input=texts\n",
    "  )\n",
    "  response_dict = response.model_dump()\n",
    "  \n",
    "  return [data['embedding'] for data in response_dict['data']]\n",
    "\n",
    "def create_product_text(product):\n",
    "  return f\"\"\"Title: {product['title']}\n",
    "Description: {product['short_description']}\n",
    "Category: {product['category']}\n",
    "Features: {', '.join(product['features'])}\"\"\"\n",
    "\n",
    "product_texts = [create_product_text(product) for product in products]\n",
    "\n",
    "product_embeddings = create_embeddings(product_texts)"
   ]
  },
  {
   "cell_type": "markdown",
   "metadata": {},
   "source": [
    "## Sort by similarity"
   ]
  },
  {
   "cell_type": "code",
   "execution_count": 3,
   "metadata": {},
   "outputs": [],
   "source": [
    "def find_n_closest(query_vector, embeddings, n=3):\n",
    "  distances = []\n",
    "  for index, embedding in enumerate(embeddings):\n",
    "    dist = distance.cosine(query_vector, embedding)\n",
    "    distances.append({\"distance\": dist, \"index\": index})\n",
    "  distances_sorted = sorted(distances, key=lambda x: x[\"distance\"])\n",
    "  return distances_sorted[0:n]"
   ]
  },
  {
   "cell_type": "markdown",
   "metadata": {},
   "source": [
    "## Semantic seach for products"
   ]
  },
  {
   "cell_type": "code",
   "execution_count": 4,
   "metadata": {},
   "outputs": [
    {
     "name": "stdout",
     "output_type": "stream",
     "text": [
      "Search results for \"computer\"\n",
      "High-Performance Gaming Laptop\n",
      "Interactive Robot Pet\n",
      "Remote-Controlled Drone\n",
      "Wireless Charging Dock\n",
      "Robot Building Kit\n"
     ]
    }
   ],
   "source": [
    "query_text = \"computer\"\n",
    "query_vector = create_embeddings(query_text)[0]\n",
    "\n",
    "hits = find_n_closest(query_vector, product_embeddings, 5)\n",
    "\n",
    "print(f'Search results for \"{query_text}\"')\n",
    "for hit in hits:\n",
    "  product = products[hit['index']]\n",
    "  print(product[\"title\"])"
   ]
  },
  {
   "cell_type": "markdown",
   "metadata": {},
   "source": [
    "# Recommendation Systems"
   ]
  },
  {
   "cell_type": "markdown",
   "metadata": {},
   "source": [
    "## Product recommendation system"
   ]
  },
  {
   "cell_type": "code",
   "execution_count": 5,
   "metadata": {},
   "outputs": [
    {
     "name": "stdout",
     "output_type": "stream",
     "text": [
      "LEGO Space Shuttle\n",
      "Robot Building Kit\n",
      "Luxury Skincare Set\n"
     ]
    }
   ],
   "source": [
    "last_product = {'title': 'Building Blocks Deluxe Set', 'short_description': 'Unleash your creativity with this deluxe set of building blocks for endless fun.', 'price': 34.99, 'category': 'Toys', 'features': ['Includes 500+ colorful building blocks', 'Promotes STEM learning and creativity', 'Compatible with other major brick brands', 'Comes with a durable storage container', 'Ideal for children ages 3 and up']}\n",
    "\n",
    "last_product_text = create_product_text(last_product)\n",
    "product_texts = [create_product_text(product) for product in products]\n",
    "\n",
    "last_product_embeddings = create_embeddings(last_product_text)[0]\n",
    "product_embeddings = create_embeddings(product_texts)\n",
    "\n",
    "hits = find_n_closest(last_product_embeddings, product_embeddings)\n",
    "\n",
    "for hit in hits:\n",
    "  product = products[hit['index']]\n",
    "  print(product['title'])"
   ]
  },
  {
   "cell_type": "markdown",
   "metadata": {},
   "source": [
    "## Adding user history to the recommendation engine"
   ]
  },
  {
   "cell_type": "code",
   "execution_count": 8,
   "metadata": {},
   "outputs": [
    {
     "name": "stdout",
     "output_type": "stream",
     "text": [
      "Wireless Charging Dock\n",
      "Robot Building Kit\n",
      "LEGO Space Shuttle\n"
     ]
    }
   ],
   "source": [
    "user_history = [\n",
    "  {'title': 'Remote-Controlled Dinosaur Toy', 'short_description': 'Roar into action with this remote-controlled dinosaur toy with lifelike movements.', 'price': 49.99, 'category': 'Toys', 'features': ['Realistic dinosaur sound effects', 'Walks and roars like a real dinosaur', 'Remote control included', 'Educational and entertaining']}, \n",
    "  {'title': 'Building Blocks Deluxe Set', 'short_description': 'Unleash your creativity with this deluxe set of building blocks for endless fun.', 'price': 34.99, 'category': 'Toys', 'features': ['Includes 500+ colorful building blocks', 'Promotes STEM learning and creativity', 'Compatible with other major brick brands', 'Comes with a durable storage container', 'Ideal for children ages 3 and up']}\n",
    "]\n",
    "\n",
    "history_texts = [create_product_text(article) for article in user_history]\n",
    "history_embeddings = create_embeddings(history_texts)\n",
    "mean_history_embeddings = np.mean(history_embeddings, axis=0)\n",
    "\n",
    "products_filtered = [product for product in products if product not in user_history]\n",
    "\n",
    "product_texts = [create_product_text(product) for product in products]\n",
    "product_embeddings = create_embeddings(product_texts)\n",
    "\n",
    "hits = find_n_closest(mean_history_embeddings, product_embeddings)\n",
    "\n",
    "for hit in hits:\n",
    "  product = products_filtered[hit['index']]\n",
    "  print(product['title'])"
   ]
  }
 ],
 "metadata": {
  "kernelspec": {
   "display_name": "openai-fundamentals",
   "language": "python",
   "name": "python3"
  },
  "language_info": {
   "codemirror_mode": {
    "name": "ipython",
    "version": 3
   },
   "file_extension": ".py",
   "mimetype": "text/x-python",
   "name": "python",
   "nbconvert_exporter": "python",
   "pygments_lexer": "ipython3",
   "version": "3.12.1"
  }
 },
 "nbformat": 4,
 "nbformat_minor": 2
}
