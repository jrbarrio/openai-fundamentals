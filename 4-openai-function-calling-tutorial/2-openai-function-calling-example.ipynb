{
 "cells": [
  {
   "cell_type": "code",
   "execution_count": 4,
   "metadata": {},
   "outputs": [],
   "source": [
    "from openai import OpenAI\n",
    "import os\n",
    "import json\n",
    "\n",
    "from dotenv import load_dotenv, find_dotenv\n",
    "_ = load_dotenv(find_dotenv())\n",
    "\n",
    "client = OpenAI(api_key=os.getenv('OPENAI_API_KEY'))"
   ]
  },
  {
   "cell_type": "code",
   "execution_count": 5,
   "metadata": {},
   "outputs": [],
   "source": [
    "student_custom_functions = [\n",
    "    {\n",
    "        'name': 'extract_student_info',\n",
    "        'description': 'Get the student information from the body of the input text',\n",
    "        'parameters': {\n",
    "            'type': 'object',\n",
    "            'properties': {\n",
    "                'name': {\n",
    "                    'type': 'string',\n",
    "                    'description': 'Name of the person'\n",
    "                },\n",
    "                'major': {\n",
    "                    'type': 'string',\n",
    "                    'description': 'Major subject.'\n",
    "                },\n",
    "                'school': {\n",
    "                    'type': 'string',\n",
    "                    'description': 'The university name.'\n",
    "                },\n",
    "                'grades': {\n",
    "                    'type': 'integer',\n",
    "                    'description': 'GPA of the student.'\n",
    "                },\n",
    "                'club': {\n",
    "                    'type': 'string',\n",
    "                    'description': 'School club for extracurricular activities. '\n",
    "                }\n",
    "                \n",
    "            }\n",
    "        }\n",
    "    }\n",
    "]"
   ]
  },
  {
   "cell_type": "code",
   "execution_count": 6,
   "metadata": {},
   "outputs": [
    {
     "name": "stdout",
     "output_type": "stream",
     "text": [
      "{'name': 'David Nguyen', 'major': 'computer science', 'school': 'Stanford University', 'grades': 3.8, 'club': 'Robotics Club'}\n",
      "{'name': 'Ravi Patel', 'major': 'computer science', 'school': 'University of Michigan', 'grades': 3.7, 'club': 'Chess Club', 'club2': 'South Asian Student Association'}\n"
     ]
    }
   ],
   "source": [
    "student_1_description = \"David Nguyen is a sophomore majoring in computer science at Stanford University. He is Asian American and has a 3.8 GPA. David is known for his programming skills and is an active member of the university's Robotics Club. He hopes to pursue a career in artificial intelligence after graduating.\"\n",
    "student_2_description=\"Ravi Patel is a sophomore majoring in computer science at the University of Michigan. He is South Asian Indian American and has a 3.7 GPA. Ravi is an active member of the university's Chess Club and the South Asian Student Association. He hopes to pursue a career in software engineering after graduating.\"\n",
    "\n",
    "student_description = [student_1_description,student_2_description]\n",
    "for sample in student_description:\n",
    "    response = client.chat.completions.create(\n",
    "        model = 'gpt-3.5-turbo',\n",
    "        messages = [{'role': 'user', 'content': sample}],\n",
    "        functions = student_custom_functions,\n",
    "        function_call = 'auto'\n",
    "    )\n",
    "\n",
    "    # Loading the response as a JSON object\n",
    "    json_response = json.loads(response.choices[0].message.function_call.arguments)\n",
    "    print(json_response)"
   ]
  },
  {
   "cell_type": "code",
   "execution_count": 7,
   "metadata": {},
   "outputs": [],
   "source": [
    "custom_functions = [\n",
    "    {\n",
    "        'name': 'extract_student_info',\n",
    "        'description': 'Get the student information from the body of the input text',\n",
    "        'parameters': {\n",
    "            'type': 'object',\n",
    "            'properties': {\n",
    "                'name': {\n",
    "                    'type': 'string',\n",
    "                    'description': 'Name of the person'\n",
    "                },\n",
    "                'major': {\n",
    "                    'type': 'string',\n",
    "                    'description': 'Major subject.'\n",
    "                },\n",
    "                'school': {\n",
    "                    'type': 'string',\n",
    "                    'description': 'The university name.'\n",
    "                },\n",
    "                'grades': {\n",
    "                    'type': 'integer',\n",
    "                    'description': 'GPA of the student.'\n",
    "                },\n",
    "                'club': {\n",
    "                    'type': 'string',\n",
    "                    'description': 'School club for extracurricular activities. '\n",
    "                }\n",
    "                \n",
    "            }\n",
    "        }\n",
    "    },\n",
    "    {\n",
    "        'name': 'extract_school_info',\n",
    "        'description': 'Get the school information from the body of the input text',\n",
    "        'parameters': {\n",
    "            'type': 'object',\n",
    "            'properties': {\n",
    "                'name': {\n",
    "                    'type': 'string',\n",
    "                    'description': 'Name of the school.'\n",
    "                },\n",
    "                'ranking': {\n",
    "                    'type': 'integer',\n",
    "                    'description': 'QS world ranking of the school.'\n",
    "                },\n",
    "                'country': {\n",
    "                    'type': 'string',\n",
    "                    'description': 'Country of the school.'\n",
    "                },\n",
    "                'no_of_students': {\n",
    "                    'type': 'integer',\n",
    "                    'description': 'Number of students enrolled in the school.'\n",
    "                }\n",
    "            }\n",
    "        }\n",
    "    }\n",
    "]"
   ]
  },
  {
   "cell_type": "code",
   "execution_count": 8,
   "metadata": {},
   "outputs": [],
   "source": [
    "school_1_description = \"Stanford University is a private research university located in Stanford, California, United States. It was founded in 1885 by Leland Stanford and his wife, Jane Stanford, in memory of their only child, Leland Stanford Jr. The university is ranked #5 in the world by QS World University Rankings. It has over 17,000 students, including about 7,600 undergraduates and 9,500 graduates23. \""
   ]
  },
  {
   "cell_type": "code",
   "execution_count": 10,
   "metadata": {},
   "outputs": [
    {
     "name": "stdout",
     "output_type": "stream",
     "text": [
      "{'name': 'David Nguyen', 'major': 'computer science', 'school': 'Stanford University', 'grades': 3.8, 'club': 'Robotics Club'}\n",
      "{'name': 'Stanford University', 'ranking': 5, 'country': 'United States', 'no_of_students': 17000}\n"
     ]
    }
   ],
   "source": [
    "description = [student_1_description, school_1_description]\n",
    "for i in description:\n",
    "    response = client.chat.completions.create(\n",
    "        model = 'gpt-3.5-turbo',\n",
    "        messages = [{'role': 'user', 'content': i}],\n",
    "        functions = custom_functions,\n",
    "        function_call = 'auto'\n",
    "    )\n",
    "\n",
    "    # Loading the response as a JSON object\n",
    "    json_response = json.loads(response.choices[0].message.function_call.arguments)\n",
    "    print(json_response)"
   ]
  },
  {
   "cell_type": "code",
   "execution_count": 11,
   "metadata": {},
   "outputs": [],
   "source": [
    "def extract_student_info(name, major, school, grades, club):    \n",
    "    \"\"\"Get the student information\"\"\"\n",
    "    return f\"{name} is majoring in {major} at {school}. He has {grades} GPA and he is an active member of the university's {club}.\"\n",
    "\n",
    "def extract_school_info(name, ranking, country, no_of_students):\n",
    "    \"\"\"Get the school information\"\"\"\n",
    "    return f\"{name} is located in the {country}. The university is ranked #{ranking} in the world with {no_of_students} students.\""
   ]
  },
  {
   "cell_type": "code",
   "execution_count": 14,
   "metadata": {},
   "outputs": [
    {
     "name": "stdout",
     "output_type": "stream",
     "text": [
      "\n",
      "Sample#1\n",
      "\n",
      "David Nguyen is majoring in computer science at Stanford University. He has 3.8 GPA and he is an active member of the university's Robotics Club.\n",
      "\n",
      "Sample#2\n",
      "\n",
      "Abraham Lincoln was the 16th President of the United States. He served from March 1861 until his assassination in April 1865. Lincoln led the nation through the American Civil War, preserved the Union, and abolished slavery. He is considered one of the greatest presidents in American history.\n",
      "\n",
      "Sample#3\n",
      "\n",
      "Stanford University is located in the United States. The university is ranked #5 in the world with 17000 students.\n"
     ]
    }
   ],
   "source": [
    "descriptions = [\n",
    "    student_1_description, \n",
    "    \"Who was a Abraham Lincoln?\",\n",
    "    school_1_description\n",
    "                ]\n",
    "for i, sample in enumerate(descriptions):\n",
    "    response = client.chat.completions.create(\n",
    "        model = 'gpt-3.5-turbo',\n",
    "        messages = [{'role': 'user', 'content': sample}],\n",
    "        functions = custom_functions,\n",
    "        function_call = 'auto'\n",
    "    )\n",
    "    \n",
    "    response_message = response.choices[0].message\n",
    "    \n",
    "    if response_message.function_call:\n",
    "        \n",
    "        # Which function call was invoked\n",
    "        function_called = response_message.function_call.name\n",
    "        \n",
    "        # Extracting the arguments\n",
    "        function_args  = json.loads(response_message.function_call.arguments)\n",
    "        \n",
    "        # Function names\n",
    "        available_functions = {\n",
    "            \"extract_school_info\": extract_school_info,\n",
    "            \"extract_student_info\": extract_student_info\n",
    "        }\n",
    "        \n",
    "        fuction_to_call = available_functions[function_called]\n",
    "        response_message = fuction_to_call(*list(function_args.values()))\n",
    "        \n",
    "    else:\n",
    "        response_message = response_message.content\n",
    "    \n",
    "    print(f\"\\nSample#{i+1}\\n\")\n",
    "    print(response_message)"
   ]
  }
 ],
 "metadata": {
  "kernelspec": {
   "display_name": "openai-fundamentals",
   "language": "python",
   "name": "python3"
  },
  "language_info": {
   "codemirror_mode": {
    "name": "ipython",
    "version": 3
   },
   "file_extension": ".py",
   "mimetype": "text/x-python",
   "name": "python",
   "nbconvert_exporter": "python",
   "pygments_lexer": "ipython3",
   "version": "3.11.7"
  }
 },
 "nbformat": 4,
 "nbformat_minor": 2
}
